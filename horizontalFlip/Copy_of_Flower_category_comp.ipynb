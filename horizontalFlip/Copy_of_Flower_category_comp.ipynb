{
  "nbformat": 4,
  "nbformat_minor": 0,
  "metadata": {
    "kernelspec": {
      "name": "python3",
      "display_name": "Python 3"
    },
    "language_info": {
      "name": "python",
      "version": "3.6.4",
      "mimetype": "text/x-python",
      "codemirror_mode": {
        "name": "ipython",
        "version": 3
      },
      "pygments_lexer": "ipython3",
      "nbconvert_exporter": "python",
      "file_extension": ".py"
    },
    "colab": {
      "name": "Copy of Flower category comp.ipynb",
      "version": "0.3.2",
      "provenance": [],
      "include_colab_link": true
    },
    "accelerator": "GPU"
  },
  "cells": [
    {
      "cell_type": "markdown",
      "metadata": {
        "id": "view-in-github",
        "colab_type": "text"
      },
      "source": [
        "<a href=\"https://colab.research.google.com/github/sagar9926/FlowerClassification/blob/master/horizontalFlip/Copy_of_Flower_category_comp.ipynb\" target=\"_parent\"><img src=\"https://colab.research.google.com/assets/colab-badge.svg\" alt=\"Open In Colab\"/></a>"
      ]
    },
    {
      "cell_type": "code",
      "metadata": {
        "id": "7UP7o5b3eag6",
        "colab_type": "code",
        "outputId": "e7d0a7b2-281e-46ad-8a8e-7562bf5a88e1",
        "colab": {
          "base_uri": "https://localhost:8080/",
          "height": 221
        }
      },
      "source": [
        "# Colab library to upload files to notebook\n",
        "#from google.colab import files\n",
        "\n",
        "# Install Kaggle library\n",
        "!pip install  kaggle\n",
        "\n",
        "from keras import regularizers\n",
        "import numpy as np\n",
        "import pandas as pd\n",
        "import os\n",
        "from matplotlib import pyplot as plt\n",
        "#print(os.listdir(\"../input/flower-recognition-he/data\"))\n",
        "from tqdm import tqdm\n",
        "from keras.preprocessing import image\n",
        "from keras.utils import to_categorical\n",
        "from sklearn.model_selection import train_test_split\n",
        "from keras.models import Sequential\n",
        "from keras.layers import Conv2D, MaxPooling2D\n",
        "from keras.layers.convolutional import Convolution2D, MaxPooling2D,AveragePooling2D\n",
        "from keras.layers import Dense, Dropout, Flatten\n",
        "from keras.layers import Activation, Flatten, Dense, Dropout\n",
        "from keras.layers.normalization import BatchNormalization\n",
        "from keras.preprocessing.image import ImageDataGenerator"
      ],
      "execution_count": 1,
      "outputs": [
        {
          "output_type": "stream",
          "text": [
            "Requirement already satisfied: kaggle in /usr/local/lib/python3.6/dist-packages (1.5.5)\n",
            "Requirement already satisfied: python-slugify in /usr/local/lib/python3.6/dist-packages (from kaggle) (3.0.3)\n",
            "Requirement already satisfied: python-dateutil in /usr/local/lib/python3.6/dist-packages (from kaggle) (2.5.3)\n",
            "Requirement already satisfied: certifi in /usr/local/lib/python3.6/dist-packages (from kaggle) (2019.6.16)\n",
            "Requirement already satisfied: tqdm in /usr/local/lib/python3.6/dist-packages (from kaggle) (4.28.1)\n",
            "Requirement already satisfied: six>=1.10 in /usr/local/lib/python3.6/dist-packages (from kaggle) (1.12.0)\n",
            "Requirement already satisfied: urllib3<1.25,>=1.21.1 in /usr/local/lib/python3.6/dist-packages (from kaggle) (1.24.3)\n",
            "Requirement already satisfied: requests in /usr/local/lib/python3.6/dist-packages (from kaggle) (2.21.0)\n",
            "Requirement already satisfied: text-unidecode==1.2 in /usr/local/lib/python3.6/dist-packages (from python-slugify->kaggle) (1.2)\n",
            "Requirement already satisfied: idna<2.9,>=2.5 in /usr/local/lib/python3.6/dist-packages (from requests->kaggle) (2.8)\n",
            "Requirement already satisfied: chardet<3.1.0,>=3.0.2 in /usr/local/lib/python3.6/dist-packages (from requests->kaggle) (3.0.4)\n"
          ],
          "name": "stdout"
        },
        {
          "output_type": "stream",
          "text": [
            "Using TensorFlow backend.\n"
          ],
          "name": "stderr"
        }
      ]
    },
    {
      "cell_type": "code",
      "metadata": {
        "id": "dcFbtdjFT0UY",
        "colab_type": "code",
        "outputId": "0784c5f0-4093-46c2-8ff6-ef472c2ce055",
        "colab": {
          "base_uri": "https://localhost:8080/",
          "height": 34
        }
      },
      "source": [
        "cd .."
      ],
      "execution_count": 2,
      "outputs": [
        {
          "output_type": "stream",
          "text": [
            "/\n"
          ],
          "name": "stdout"
        }
      ]
    },
    {
      "cell_type": "code",
      "metadata": {
        "id": "3VbAEqKqT2G3",
        "colab_type": "code",
        "outputId": "6b9e3d96-dcfd-47bd-cc61-bd438ea273d4",
        "colab": {
          "base_uri": "https://localhost:8080/",
          "height": 34
        }
      },
      "source": [
        "cd content"
      ],
      "execution_count": 3,
      "outputs": [
        {
          "output_type": "stream",
          "text": [
            "/content\n"
          ],
          "name": "stdout"
        }
      ]
    },
    {
      "cell_type": "code",
      "metadata": {
        "id": "YKwnt6beS8Lc",
        "colab_type": "code",
        "outputId": "5f869555-4cea-4886-f4ea-6203f1f83fe8",
        "colab": {
          "resources": {
            "http://localhost:8080/nbextensions/google.colab/files.js": {
              "data": "Ly8gQ29weXJpZ2h0IDIwMTcgR29vZ2xlIExMQwovLwovLyBMaWNlbnNlZCB1bmRlciB0aGUgQXBhY2hlIExpY2Vuc2UsIFZlcnNpb24gMi4wICh0aGUgIkxpY2Vuc2UiKTsKLy8geW91IG1heSBub3QgdXNlIHRoaXMgZmlsZSBleGNlcHQgaW4gY29tcGxpYW5jZSB3aXRoIHRoZSBMaWNlbnNlLgovLyBZb3UgbWF5IG9idGFpbiBhIGNvcHkgb2YgdGhlIExpY2Vuc2UgYXQKLy8KLy8gICAgICBodHRwOi8vd3d3LmFwYWNoZS5vcmcvbGljZW5zZXMvTElDRU5TRS0yLjAKLy8KLy8gVW5sZXNzIHJlcXVpcmVkIGJ5IGFwcGxpY2FibGUgbGF3IG9yIGFncmVlZCB0byBpbiB3cml0aW5nLCBzb2Z0d2FyZQovLyBkaXN0cmlidXRlZCB1bmRlciB0aGUgTGljZW5zZSBpcyBkaXN0cmlidXRlZCBvbiBhbiAiQVMgSVMiIEJBU0lTLAovLyBXSVRIT1VUIFdBUlJBTlRJRVMgT1IgQ09ORElUSU9OUyBPRiBBTlkgS0lORCwgZWl0aGVyIGV4cHJlc3Mgb3IgaW1wbGllZC4KLy8gU2VlIHRoZSBMaWNlbnNlIGZvciB0aGUgc3BlY2lmaWMgbGFuZ3VhZ2UgZ292ZXJuaW5nIHBlcm1pc3Npb25zIGFuZAovLyBsaW1pdGF0aW9ucyB1bmRlciB0aGUgTGljZW5zZS4KCi8qKgogKiBAZmlsZW92ZXJ2aWV3IEhlbHBlcnMgZm9yIGdvb2dsZS5jb2xhYiBQeXRob24gbW9kdWxlLgogKi8KKGZ1bmN0aW9uKHNjb3BlKSB7CmZ1bmN0aW9uIHNwYW4odGV4dCwgc3R5bGVBdHRyaWJ1dGVzID0ge30pIHsKICBjb25zdCBlbGVtZW50ID0gZG9jdW1lbnQuY3JlYXRlRWxlbWVudCgnc3BhbicpOwogIGVsZW1lbnQudGV4dENvbnRlbnQgPSB0ZXh0OwogIGZvciAoY29uc3Qga2V5IG9mIE9iamVjdC5rZXlzKHN0eWxlQXR0cmlidXRlcykpIHsKICAgIGVsZW1lbnQuc3R5bGVba2V5XSA9IHN0eWxlQXR0cmlidXRlc1trZXldOwogIH0KICByZXR1cm4gZWxlbWVudDsKfQoKLy8gTWF4IG51bWJlciBvZiBieXRlcyB3aGljaCB3aWxsIGJlIHVwbG9hZGVkIGF0IGEgdGltZS4KY29uc3QgTUFYX1BBWUxPQURfU0laRSA9IDEwMCAqIDEwMjQ7Ci8vIE1heCBhbW91bnQgb2YgdGltZSB0byBibG9jayB3YWl0aW5nIGZvciB0aGUgdXNlci4KY29uc3QgRklMRV9DSEFOR0VfVElNRU9VVF9NUyA9IDMwICogMTAwMDsKCmZ1bmN0aW9uIF91cGxvYWRGaWxlcyhpbnB1dElkLCBvdXRwdXRJZCkgewogIGNvbnN0IHN0ZXBzID0gdXBsb2FkRmlsZXNTdGVwKGlucHV0SWQsIG91dHB1dElkKTsKICBjb25zdCBvdXRwdXRFbGVtZW50ID0gZG9jdW1lbnQuZ2V0RWxlbWVudEJ5SWQob3V0cHV0SWQpOwogIC8vIENhY2hlIHN0ZXBzIG9uIHRoZSBvdXRwdXRFbGVtZW50IHRvIG1ha2UgaXQgYXZhaWxhYmxlIGZvciB0aGUgbmV4dCBjYWxsCiAgLy8gdG8gdXBsb2FkRmlsZXNDb250aW51ZSBmcm9tIFB5dGhvbi4KICBvdXRwdXRFbGVtZW50LnN0ZXBzID0gc3RlcHM7CgogIHJldHVybiBfdXBsb2FkRmlsZXNDb250aW51ZShvdXRwdXRJZCk7Cn0KCi8vIFRoaXMgaXMgcm91Z2hseSBhbiBhc3luYyBnZW5lcmF0b3IgKG5vdCBzdXBwb3J0ZWQgaW4gdGhlIGJyb3dzZXIgeWV0KSwKLy8gd2hlcmUgdGhlcmUgYXJlIG11bHRpcGxlIGFzeW5jaHJvbm91cyBzdGVwcyBhbmQgdGhlIFB5dGhvbiBzaWRlIGlzIGdvaW5nCi8vIHRvIHBvbGwgZm9yIGNvbXBsZXRpb24gb2YgZWFjaCBzdGVwLgovLyBUaGlzIHVzZXMgYSBQcm9taXNlIHRvIGJsb2NrIHRoZSBweXRob24gc2lkZSBvbiBjb21wbGV0aW9uIG9mIGVhY2ggc3RlcCwKLy8gdGhlbiBwYXNzZXMgdGhlIHJlc3VsdCBvZiB0aGUgcHJldmlvdXMgc3RlcCBhcyB0aGUgaW5wdXQgdG8gdGhlIG5leHQgc3RlcC4KZnVuY3Rpb24gX3VwbG9hZEZpbGVzQ29udGludWUob3V0cHV0SWQpIHsKICBjb25zdCBvdXRwdXRFbGVtZW50ID0gZG9jdW1lbnQuZ2V0RWxlbWVudEJ5SWQob3V0cHV0SWQpOwogIGNvbnN0IHN0ZXBzID0gb3V0cHV0RWxlbWVudC5zdGVwczsKCiAgY29uc3QgbmV4dCA9IHN0ZXBzLm5leHQob3V0cHV0RWxlbWVudC5sYXN0UHJvbWlzZVZhbHVlKTsKICByZXR1cm4gUHJvbWlzZS5yZXNvbHZlKG5leHQudmFsdWUucHJvbWlzZSkudGhlbigodmFsdWUpID0+IHsKICAgIC8vIENhY2hlIHRoZSBsYXN0IHByb21pc2UgdmFsdWUgdG8gbWFrZSBpdCBhdmFpbGFibGUgdG8gdGhlIG5leHQKICAgIC8vIHN0ZXAgb2YgdGhlIGdlbmVyYXRvci4KICAgIG91dHB1dEVsZW1lbnQubGFzdFByb21pc2VWYWx1ZSA9IHZhbHVlOwogICAgcmV0dXJuIG5leHQudmFsdWUucmVzcG9uc2U7CiAgfSk7Cn0KCi8qKgogKiBHZW5lcmF0b3IgZnVuY3Rpb24gd2hpY2ggaXMgY2FsbGVkIGJldHdlZW4gZWFjaCBhc3luYyBzdGVwIG9mIHRoZSB1cGxvYWQKICogcHJvY2Vzcy4KICogQHBhcmFtIHtzdHJpbmd9IGlucHV0SWQgRWxlbWVudCBJRCBvZiB0aGUgaW5wdXQgZmlsZSBwaWNrZXIgZWxlbWVudC4KICogQHBhcmFtIHtzdHJpbmd9IG91dHB1dElkIEVsZW1lbnQgSUQgb2YgdGhlIG91dHB1dCBkaXNwbGF5LgogKiBAcmV0dXJuIHshSXRlcmFibGU8IU9iamVjdD59IEl0ZXJhYmxlIG9mIG5leHQgc3RlcHMuCiAqLwpmdW5jdGlvbiogdXBsb2FkRmlsZXNTdGVwKGlucHV0SWQsIG91dHB1dElkKSB7CiAgY29uc3QgaW5wdXRFbGVtZW50ID0gZG9jdW1lbnQuZ2V0RWxlbWVudEJ5SWQoaW5wdXRJZCk7CiAgaW5wdXRFbGVtZW50LmRpc2FibGVkID0gZmFsc2U7CgogIGNvbnN0IG91dHB1dEVsZW1lbnQgPSBkb2N1bWVudC5nZXRFbGVtZW50QnlJZChvdXRwdXRJZCk7CiAgb3V0cHV0RWxlbWVudC5pbm5lckhUTUwgPSAnJzsKCiAgY29uc3QgcGlja2VkUHJvbWlzZSA9IG5ldyBQcm9taXNlKChyZXNvbHZlKSA9PiB7CiAgICBpbnB1dEVsZW1lbnQuYWRkRXZlbnRMaXN0ZW5lcignY2hhbmdlJywgKGUpID0+IHsKICAgICAgcmVzb2x2ZShlLnRhcmdldC5maWxlcyk7CiAgICB9KTsKICB9KTsKCiAgY29uc3QgY2FuY2VsID0gZG9jdW1lbnQuY3JlYXRlRWxlbWVudCgnYnV0dG9uJyk7CiAgaW5wdXRFbGVtZW50LnBhcmVudEVsZW1lbnQuYXBwZW5kQ2hpbGQoY2FuY2VsKTsKICBjYW5jZWwudGV4dENvbnRlbnQgPSAnQ2FuY2VsIHVwbG9hZCc7CiAgY29uc3QgY2FuY2VsUHJvbWlzZSA9IG5ldyBQcm9taXNlKChyZXNvbHZlKSA9PiB7CiAgICBjYW5jZWwub25jbGljayA9ICgpID0+IHsKICAgICAgcmVzb2x2ZShudWxsKTsKICAgIH07CiAgfSk7CgogIC8vIENhbmNlbCB1cGxvYWQgaWYgdXNlciBoYXNuJ3QgcGlja2VkIGFueXRoaW5nIGluIHRpbWVvdXQuCiAgY29uc3QgdGltZW91dFByb21pc2UgPSBuZXcgUHJvbWlzZSgocmVzb2x2ZSkgPT4gewogICAgc2V0VGltZW91dCgoKSA9PiB7CiAgICAgIHJlc29sdmUobnVsbCk7CiAgICB9LCBGSUxFX0NIQU5HRV9USU1FT1VUX01TKTsKICB9KTsKCiAgLy8gV2FpdCBmb3IgdGhlIHVzZXIgdG8gcGljayB0aGUgZmlsZXMuCiAgY29uc3QgZmlsZXMgPSB5aWVsZCB7CiAgICBwcm9taXNlOiBQcm9taXNlLnJhY2UoW3BpY2tlZFByb21pc2UsIHRpbWVvdXRQcm9taXNlLCBjYW5jZWxQcm9taXNlXSksCiAgICByZXNwb25zZTogewogICAgICBhY3Rpb246ICdzdGFydGluZycsCiAgICB9CiAgfTsKCiAgaWYgKCFmaWxlcykgewogICAgcmV0dXJuIHsKICAgICAgcmVzcG9uc2U6IHsKICAgICAgICBhY3Rpb246ICdjb21wbGV0ZScsCiAgICAgIH0KICAgIH07CiAgfQoKICBjYW5jZWwucmVtb3ZlKCk7CgogIC8vIERpc2FibGUgdGhlIGlucHV0IGVsZW1lbnQgc2luY2UgZnVydGhlciBwaWNrcyBhcmUgbm90IGFsbG93ZWQuCiAgaW5wdXRFbGVtZW50LmRpc2FibGVkID0gdHJ1ZTsKCiAgZm9yIChjb25zdCBmaWxlIG9mIGZpbGVzKSB7CiAgICBjb25zdCBsaSA9IGRvY3VtZW50LmNyZWF0ZUVsZW1lbnQoJ2xpJyk7CiAgICBsaS5hcHBlbmQoc3BhbihmaWxlLm5hbWUsIHtmb250V2VpZ2h0OiAnYm9sZCd9KSk7CiAgICBsaS5hcHBlbmQoc3BhbigKICAgICAgICBgKCR7ZmlsZS50eXBlIHx8ICduL2EnfSkgLSAke2ZpbGUuc2l6ZX0gYnl0ZXMsIGAgKwogICAgICAgIGBsYXN0IG1vZGlmaWVkOiAkewogICAgICAgICAgICBmaWxlLmxhc3RNb2RpZmllZERhdGUgPyBmaWxlLmxhc3RNb2RpZmllZERhdGUudG9Mb2NhbGVEYXRlU3RyaW5nKCkgOgogICAgICAgICAgICAgICAgICAgICAgICAgICAgICAgICAgICAnbi9hJ30gLSBgKSk7CiAgICBjb25zdCBwZXJjZW50ID0gc3BhbignMCUgZG9uZScpOwogICAgbGkuYXBwZW5kQ2hpbGQocGVyY2VudCk7CgogICAgb3V0cHV0RWxlbWVudC5hcHBlbmRDaGlsZChsaSk7CgogICAgY29uc3QgZmlsZURhdGFQcm9taXNlID0gbmV3IFByb21pc2UoKHJlc29sdmUpID0+IHsKICAgICAgY29uc3QgcmVhZGVyID0gbmV3IEZpbGVSZWFkZXIoKTsKICAgICAgcmVhZGVyLm9ubG9hZCA9IChlKSA9PiB7CiAgICAgICAgcmVzb2x2ZShlLnRhcmdldC5yZXN1bHQpOwogICAgICB9OwogICAgICByZWFkZXIucmVhZEFzQXJyYXlCdWZmZXIoZmlsZSk7CiAgICB9KTsKICAgIC8vIFdhaXQgZm9yIHRoZSBkYXRhIHRvIGJlIHJlYWR5LgogICAgbGV0IGZpbGVEYXRhID0geWllbGQgewogICAgICBwcm9taXNlOiBmaWxlRGF0YVByb21pc2UsCiAgICAgIHJlc3BvbnNlOiB7CiAgICAgICAgYWN0aW9uOiAnY29udGludWUnLAogICAgICB9CiAgICB9OwoKICAgIC8vIFVzZSBhIGNodW5rZWQgc2VuZGluZyB0byBhdm9pZCBtZXNzYWdlIHNpemUgbGltaXRzLiBTZWUgYi82MjExNTY2MC4KICAgIGxldCBwb3NpdGlvbiA9IDA7CiAgICB3aGlsZSAocG9zaXRpb24gPCBmaWxlRGF0YS5ieXRlTGVuZ3RoKSB7CiAgICAgIGNvbnN0IGxlbmd0aCA9IE1hdGgubWluKGZpbGVEYXRhLmJ5dGVMZW5ndGggLSBwb3NpdGlvbiwgTUFYX1BBWUxPQURfU0laRSk7CiAgICAgIGNvbnN0IGNodW5rID0gbmV3IFVpbnQ4QXJyYXkoZmlsZURhdGEsIHBvc2l0aW9uLCBsZW5ndGgpOwogICAgICBwb3NpdGlvbiArPSBsZW5ndGg7CgogICAgICBjb25zdCBiYXNlNjQgPSBidG9hKFN0cmluZy5mcm9tQ2hhckNvZGUuYXBwbHkobnVsbCwgY2h1bmspKTsKICAgICAgeWllbGQgewogICAgICAgIHJlc3BvbnNlOiB7CiAgICAgICAgICBhY3Rpb246ICdhcHBlbmQnLAogICAgICAgICAgZmlsZTogZmlsZS5uYW1lLAogICAgICAgICAgZGF0YTogYmFzZTY0LAogICAgICAgIH0sCiAgICAgIH07CiAgICAgIHBlcmNlbnQudGV4dENvbnRlbnQgPQogICAgICAgICAgYCR7TWF0aC5yb3VuZCgocG9zaXRpb24gLyBmaWxlRGF0YS5ieXRlTGVuZ3RoKSAqIDEwMCl9JSBkb25lYDsKICAgIH0KICB9CgogIC8vIEFsbCBkb25lLgogIHlpZWxkIHsKICAgIHJlc3BvbnNlOiB7CiAgICAgIGFjdGlvbjogJ2NvbXBsZXRlJywKICAgIH0KICB9Owp9CgpzY29wZS5nb29nbGUgPSBzY29wZS5nb29nbGUgfHwge307CnNjb3BlLmdvb2dsZS5jb2xhYiA9IHNjb3BlLmdvb2dsZS5jb2xhYiB8fCB7fTsKc2NvcGUuZ29vZ2xlLmNvbGFiLl9maWxlcyA9IHsKICBfdXBsb2FkRmlsZXMsCiAgX3VwbG9hZEZpbGVzQ29udGludWUsCn07Cn0pKHNlbGYpOwo=",
              "ok": true,
              "headers": [
                [
                  "content-type",
                  "application/javascript"
                ]
              ],
              "status": 200,
              "status_text": ""
            }
          },
          "base_uri": "https://localhost:8080/",
          "height": 91
        }
      },
      "source": [
        "# Run this cell and select the kaggle.json file downloaded\n",
        "# from the Kaggle account settings page.\n",
        "from google.colab import files\n",
        "files.upload()"
      ],
      "execution_count": 4,
      "outputs": [
        {
          "output_type": "display_data",
          "data": {
            "text/html": [
              "\n",
              "     <input type=\"file\" id=\"files-33b2dec7-e463-4575-8974-026d74b966a3\" name=\"files[]\" multiple disabled />\n",
              "     <output id=\"result-33b2dec7-e463-4575-8974-026d74b966a3\">\n",
              "      Upload widget is only available when the cell has been executed in the\n",
              "      current browser session. Please rerun this cell to enable.\n",
              "      </output>\n",
              "      <script src=\"/nbextensions/google.colab/files.js\"></script> "
            ],
            "text/plain": [
              "<IPython.core.display.HTML object>"
            ]
          },
          "metadata": {
            "tags": []
          }
        },
        {
          "output_type": "stream",
          "text": [
            "Saving kaggle.json to kaggle (1).json\n"
          ],
          "name": "stdout"
        },
        {
          "output_type": "execute_result",
          "data": {
            "text/plain": [
              "{'kaggle.json': b'{\"username\":\"agrawalsagar178\",\"key\":\"3e3a262202b2c8a388745d9de04e10af\"}'}"
            ]
          },
          "metadata": {
            "tags": []
          },
          "execution_count": 4
        }
      ]
    },
    {
      "cell_type": "code",
      "metadata": {
        "id": "9UB9AjnrUBjF",
        "colab_type": "code",
        "outputId": "f7b6623b-2634-4f93-a85b-12414814deba",
        "colab": {
          "base_uri": "https://localhost:8080/",
          "height": 51
        }
      },
      "source": [
        "!ls"
      ],
      "execution_count": 5,
      "outputs": [
        {
          "output_type": "stream",
          "text": [
            " data\t\t\t    'kaggle (1).json'   sample_data\n",
            " flower-recognition-he.zip   kaggle.json\n"
          ],
          "name": "stdout"
        }
      ]
    },
    {
      "cell_type": "code",
      "metadata": {
        "id": "Pudy_hW-TMQy",
        "colab_type": "code",
        "outputId": "3a610a98-bf00-48d2-bd2d-0cb89c78ac0a",
        "colab": {
          "base_uri": "https://localhost:8080/",
          "height": 34
        }
      },
      "source": [
        "# Let's make sure the kaggle.json file is present.\n",
        "!ls -lha kaggle.json"
      ],
      "execution_count": 6,
      "outputs": [
        {
          "output_type": "stream",
          "text": [
            "-rw-r--r-- 1 root root 71 Aug 10 14:12 kaggle.json\n"
          ],
          "name": "stdout"
        }
      ]
    },
    {
      "cell_type": "code",
      "metadata": {
        "id": "K5FFWmIKUwSY",
        "colab_type": "code",
        "colab": {}
      },
      "source": [
        "# Next, install the Kaggle API client.\n",
        "!pip install -q kaggle"
      ],
      "execution_count": 0,
      "outputs": []
    },
    {
      "cell_type": "code",
      "metadata": {
        "id": "HXMGUDxPU0V7",
        "colab_type": "code",
        "colab": {}
      },
      "source": [
        "# The Kaggle API client expects this file to be in ~/.kaggle,\n",
        "# so move it there.\n",
        "!mkdir -p ~/.kaggle\n",
        "!cp kaggle.json ~/.kaggle/\n",
        "\n",
        "# This permissions change avoids a warning on Kaggle tool startup.\n",
        "!chmod 600 ~/.kaggle/kaggle.json"
      ],
      "execution_count": 0,
      "outputs": []
    },
    {
      "cell_type": "code",
      "metadata": {
        "id": "nAbehViqU3Ux",
        "colab_type": "code",
        "outputId": "80b205b8-1496-4dd0-d950-59829c09d06d",
        "colab": {
          "base_uri": "https://localhost:8080/",
          "height": 34
        }
      },
      "source": [
        "! kaggle datasets download -d rednivrug/flower-recognition-he -p /content\n",
        "\n",
        "#kaggle kernels pull rednivrug/flower-recogition-hackerearth-ensemble"
      ],
      "execution_count": 9,
      "outputs": [
        {
          "output_type": "stream",
          "text": [
            "flower-recognition-he.zip: Skipping, found more recently modified local copy (use --force to force download)\n"
          ],
          "name": "stdout"
        }
      ]
    },
    {
      "cell_type": "code",
      "metadata": {
        "id": "B9_FcpVEsnTd",
        "colab_type": "code",
        "outputId": "f4d3181b-29a3-4ee1-db8c-2df732d164bd",
        "colab": {
          "base_uri": "https://localhost:8080/",
          "height": 51
        }
      },
      "source": [
        "# Unzip the data\n",
        "!unzip flower-recognition-he.zip"
      ],
      "execution_count": 10,
      "outputs": [
        {
          "output_type": "stream",
          "text": [
            "Archive:  flower-recognition-he.zip\n",
            "replace data/sample_submission.csv? [y]es, [n]o, [A]ll, [N]one, [r]ename: N\n"
          ],
          "name": "stdout"
        }
      ]
    },
    {
      "cell_type": "code",
      "metadata": {
        "id": "hNLQOvsfsw3j",
        "colab_type": "code",
        "outputId": "749478fe-ca37-4d5f-f4f2-78781a417f19",
        "colab": {
          "base_uri": "https://localhost:8080/",
          "height": 1000
        }
      },
      "source": [
        "# Let's check the labels\n",
        "train_category = pd.read_csv(\"data/train.csv\")\n",
        "train_category.category.value_counts()"
      ],
      "execution_count": 11,
      "outputs": [
        {
          "output_type": "execute_result",
          "data": {
            "text/plain": [
              "51     582\n",
              "77     567\n",
              "46     441\n",
              "73     438\n",
              "89     414\n",
              "74     387\n",
              "81     375\n",
              "94     366\n",
              "88     348\n",
              "78     309\n",
              "83     297\n",
              "43     294\n",
              "41     288\n",
              "95     288\n",
              "75     270\n",
              "58     258\n",
              "82     252\n",
              "60     246\n",
              "56     246\n",
              "76     243\n",
              "37     243\n",
              "80     237\n",
              "65     231\n",
              "72     216\n",
              "53     210\n",
              "44     210\n",
              "23     207\n",
              "96     207\n",
              "50     207\n",
              "12     198\n",
              "      ... \n",
              "64     117\n",
              "61     114\n",
              "19     111\n",
              "15     111\n",
              "49     111\n",
              "100    111\n",
              "13     111\n",
              "14     108\n",
              "102    108\n",
              "93     105\n",
              "9      105\n",
              "33     105\n",
              "32     102\n",
              "6      102\n",
              "10     102\n",
              "35      99\n",
              "67      96\n",
              "24      96\n",
              "39      93\n",
              "79      93\n",
              "25      93\n",
              "26      93\n",
              "16      93\n",
              "34      90\n",
              "3       90\n",
              "21      90\n",
              "7       90\n",
              "1       90\n",
              "27      90\n",
              "45      90\n",
              "Name: category, Length: 102, dtype: int64"
            ]
          },
          "metadata": {
            "tags": []
          },
          "execution_count": 11
        }
      ]
    },
    {
      "cell_type": "code",
      "metadata": {
        "id": "W3oxJ9iRvgXr",
        "colab_type": "code",
        "outputId": "e1a798f1-3f69-43ec-a0a4-d10f7f898644",
        "colab": {
          "base_uri": "https://localhost:8080/",
          "height": 51
        }
      },
      "source": [
        "#%cd content\n",
        "%cd data\n",
        "!ls"
      ],
      "execution_count": 12,
      "outputs": [
        {
          "output_type": "stream",
          "text": [
            "/content/data\n",
            "sample_submission.csv  test  test.csv  train  train.csv\n"
          ],
          "name": "stdout"
        }
      ]
    },
    {
      "cell_type": "code",
      "metadata": {
        "trusted": true,
        "id": "LCPJhWEqeQNe",
        "colab_type": "code",
        "outputId": "373dae17-be5e-497d-8dbc-073d5b33e9ba",
        "colab": {
          "base_uri": "https://localhost:8080/",
          "height": 269
        }
      },
      "source": [
        "\n",
        "img = image.load_img('../data/train/'+train_category['image_id'][0].astype('str')+'.jpg', target_size=(64,64,1))\n",
        "imgplot = plt.imshow(img)"
      ],
      "execution_count": 13,
      "outputs": [
        {
          "output_type": "display_data",
          "data": {
            "image/png": "[encoded data removed]",
            "text/plain": [
              "<Figure size 432x288 with 1 Axes>"
            ]
          },
          "metadata": {
            "tags": []
          }
        }
      ]
    },
    {
      "cell_type": "code",
      "metadata": {
        "trusted": true,
        "id": "EwpROhi-eQNk",
        "colab_type": "code",
        "outputId": "c3a6324c-2469-464e-d1c3-9ee383cd1fed",
        "colab": {
          "base_uri": "https://localhost:8080/",
          "height": 34
        }
      },
      "source": [
        "#Next, we will read all the training images, store them in a list, \n",
        "#and finally convert #that list into a numpy array.\n",
        "\n",
        "train_image = []\n",
        "for i in tqdm(range(train_category.shape[0])):\n",
        "    img = image.load_img('../data/train/'+train_category['image_id'][i].astype('str')+'.jpg', target_size=(64,64,1))\n",
        "    img = image.img_to_array(img)\n",
        "    img = img/255\n",
        "    train_image.append(img)\n",
        "X = np.array(train_image)\n",
        "\n",
        "\n"
      ],
      "execution_count": 14,
      "outputs": [
        {
          "output_type": "stream",
          "text": [
            "100%|██████████| 18540/18540 [01:22<00:00, 223.82it/s]\n"
          ],
          "name": "stderr"
        }
      ]
    },
    {
      "cell_type": "code",
      "metadata": {
        "id": "qP4aHsfTCEMZ",
        "colab_type": "code",
        "colab": {}
      },
      "source": [
        "L  = list(train_category.category)"
      ],
      "execution_count": 0,
      "outputs": []
    },
    {
      "cell_type": "code",
      "metadata": {
        "id": "c9NboQ5ewVeU",
        "colab_type": "code",
        "outputId": "d4a98d4c-cb9e-45a5-fe88-f9a800c36b26",
        "colab": {
          "base_uri": "https://localhost:8080/",
          "height": 850
        }
      },
      "source": [
        "X[0]"
      ],
      "execution_count": 0,
      "outputs": [
        {
          "output_type": "execute_result",
          "data": {
            "text/plain": [
              "array([[[0.21176471, 0.25882354, 0.16470589],\n",
              "        [0.21568628, 0.24313726, 0.17254902],\n",
              "        [0.14509805, 0.19607843, 0.1254902 ],\n",
              "        ...,\n",
              "        [0.11372549, 0.17254902, 0.09019608],\n",
              "        [0.14509805, 0.21960784, 0.13333334],\n",
              "        [0.13333334, 0.20784314, 0.12156863]],\n",
              "\n",
              "       [[0.17254902, 0.24705882, 0.16078432],\n",
              "        [0.13725491, 0.21176471, 0.13725491],\n",
              "        [0.09019608, 0.14901961, 0.07450981],\n",
              "        ...,\n",
              "        [0.11764706, 0.16470589, 0.08627451],\n",
              "        [0.14117648, 0.21568628, 0.12941177],\n",
              "        [0.11372549, 0.1882353 , 0.10196079]],\n",
              "\n",
              "       [[0.20784314, 0.26666668, 0.14509805],\n",
              "        [0.11764706, 0.18039216, 0.07843138],\n",
              "        [0.07058824, 0.07450981, 0.04313726],\n",
              "        ...,\n",
              "        [0.07450981, 0.14117648, 0.06666667],\n",
              "        [0.10588235, 0.18039216, 0.09411765],\n",
              "        [0.1764706 , 0.27058825, 0.1764706 ]],\n",
              "\n",
              "       ...,\n",
              "\n",
              "       [[0.05882353, 0.06666667, 0.04705882],\n",
              "        [0.05490196, 0.0627451 , 0.04313726],\n",
              "        [0.07058824, 0.07843138, 0.05882353],\n",
              "        ...,\n",
              "        [0.07843138, 0.15686275, 0.05098039],\n",
              "        [0.23529412, 0.28627452, 0.16862746],\n",
              "        [0.10588235, 0.1882353 , 0.12941177]],\n",
              "\n",
              "       [[0.03137255, 0.02352941, 0.02745098],\n",
              "        [0.02745098, 0.04705882, 0.01960784],\n",
              "        [0.06666667, 0.09803922, 0.03921569],\n",
              "        ...,\n",
              "        [0.0627451 , 0.12156863, 0.03137255],\n",
              "        [0.07058824, 0.14509805, 0.03529412],\n",
              "        [0.19607843, 0.23529412, 0.13725491]],\n",
              "\n",
              "       [[0.04705882, 0.03921569, 0.04313726],\n",
              "        [0.07843138, 0.09803922, 0.07058824],\n",
              "        [0.04313726, 0.09411765, 0.02745098],\n",
              "        ...,\n",
              "        [0.04705882, 0.10588235, 0.01568628],\n",
              "        [0.06666667, 0.12156863, 0.03137255],\n",
              "        [0.05882353, 0.12941177, 0.03529412]]], dtype=float32)"
            ]
          },
          "metadata": {
            "tags": []
          },
          "execution_count": 15
        }
      ]
    },
    {
      "cell_type": "code",
      "metadata": {
        "trusted": true,
        "id": "xO5LP5ZseQNq",
        "colab_type": "code",
        "outputId": "cf666eed-d451-45cb-c37e-f75093a70101",
        "colab": {
          "base_uri": "https://localhost:8080/",
          "height": 34
        }
      },
      "source": [
        "X.shape"
      ],
      "execution_count": 0,
      "outputs": [
        {
          "output_type": "execute_result",
          "data": {
            "text/plain": [
              "(18540, 64, 64, 3)"
            ]
          },
          "metadata": {
            "tags": []
          },
          "execution_count": 17
        }
      ]
    },
    {
      "cell_type": "code",
      "metadata": {
        "trusted": true,
        "id": "V1KWKQMleQNx",
        "colab_type": "code",
        "colab": {}
      },
      "source": [
        "y=train_category['category'].values\n",
        "y = to_categorical(y)"
      ],
      "execution_count": 0,
      "outputs": []
    },
    {
      "cell_type": "code",
      "metadata": {
        "trusted": true,
        "id": "AwbniqcZeQN3",
        "colab_type": "code",
        "outputId": "bba076c9-c4c6-4736-eac2-da510e8f7ccd",
        "colab": {
          "base_uri": "https://localhost:8080/",
          "height": 34
        }
      },
      "source": [
        "len(y[0])"
      ],
      "execution_count": 0,
      "outputs": [
        {
          "output_type": "execute_result",
          "data": {
            "text/plain": [
              "103"
            ]
          },
          "metadata": {
            "tags": []
          },
          "execution_count": 83
        }
      ]
    },
    {
      "cell_type": "code",
      "metadata": {
        "trusted": true,
        "id": "8Z5WlQF9eQOC",
        "colab_type": "code",
        "colab": {}
      },
      "source": [
        "X_train, X_test, y_train, y_test = train_test_split(X, y, random_state=42, test_size=0.25,stratify = L )"
      ],
      "execution_count": 0,
      "outputs": []
    },
    {
      "cell_type": "code",
      "metadata": {
        "id": "KphD8zS3CL3b",
        "colab_type": "code",
        "colab": {}
      },
      "source": [
        "datagen = ImageDataGenerator(featurewise_center=True, samplewise_center=True,horizontal_flip = True,vertical_flip = True)\n",
        "datagen.fit(X_train)\n",
        "\n",
        "val_datagen = ImageDataGenerator(featurewise_center=True, samplewise_center=True)\n",
        "val_datagen.fit(X_train)\n",
        "\n",
        "\n",
        "# demonstrate effect on entire training dataset\n",
        "train_iterator = datagen.flow(X_train, y_train, batch_size=128, shuffle=False) #what is the use of shuffle\n",
        "val_iterator = val_datagen.flow(X_test, y_test, batch_size=64, shuffle=False)"
      ],
      "execution_count": 0,
      "outputs": []
    },
    {
      "cell_type": "code",
      "metadata": {
        "id": "AN9erOfKw-0R",
        "colab_type": "code",
        "outputId": "0b7cbd4c-24d9-42ae-9cd3-a51859d9a975",
        "colab": {
          "base_uri": "https://localhost:8080/",
          "height": 292
        }
      },
      "source": [
        "#Test accuracy 67\n",
        "\n",
        "# Define the model\n",
        "model1 = Sequential()\n",
        "model1.add(Convolution2D(32, 3, 3, border_mode='same',kernel_regularizer=regularizers.l2(0.0001), input_shape=(64, 64, 3)))\n",
        "model1.add(Activation('relu'))\n",
        "model1.add(BatchNormalization())\n",
        "model1.add(Dropout(0.05))\n",
        "\n",
        "model1.add(Convolution2D(32, 3, 3, border_mode='same',kernel_regularizer=regularizers.l2(0.0001), input_shape=(64, 64, 3)))\n",
        "model1.add(Activation('relu'))\n",
        "model1.add(BatchNormalization())\n",
        "model1.add(Dropout(0.05))\n",
        "\n",
        "model1.add(Convolution2D(64, 3, 3,kernel_regularizer=regularizers.l2(0.0001),border_mode='same'))\n",
        "model1.add(Activation('relu'))\n",
        "model1.add(BatchNormalization())\n",
        "model1.add(Dropout(0.05))\n",
        "\n",
        "model1.add(MaxPooling2D(pool_size=(2, 2)))\n",
        "model1.add(Dropout(0.25))\n",
        "\n",
        "model1.add(Convolution2D(32, 1, 1))\n",
        "\n",
        "\n",
        "model1.add(Convolution2D(64, 3, 3,kernel_regularizer=regularizers.l2(0.0001),border_mode='same'))\n",
        "model1.add(Activation('relu'))\n",
        "model1.add(BatchNormalization())\n",
        "model1.add(Dropout(0.05))\n",
        "\n",
        "model1.add(Convolution2D(64, 3, 3,kernel_regularizer=regularizers.l2(0.0001),border_mode='same'))\n",
        "model1.add(Activation('relu'))\n",
        "model1.add(BatchNormalization())\n",
        "model1.add(Dropout(0.05))\n",
        "\n",
        "model1.add(Convolution2D(128, 3, 3,kernel_regularizer=regularizers.l2(0.0001),border_mode='same'))\n",
        "model1.add(Activation('relu'))\n",
        "model1.add(BatchNormalization())\n",
        "model1.add(Dropout(0.05))\n",
        "\n",
        "model1.add(MaxPooling2D(pool_size=(2, 2)))\n",
        "model1.add(Dropout(0.35))\n",
        "\n",
        "model1.add(Convolution2D(32, 1, 1))\n",
        "\n",
        "\n",
        "model1.add(Convolution2D(128, 3, 3,kernel_regularizer=regularizers.l2(0.0001), border_mode='same'))\n",
        "model1.add(Activation('relu'))\n",
        "model1.add(BatchNormalization())\n",
        "model1.add(Dropout(0.05))\n",
        "\n",
        "model1.add(Convolution2D(128, 3, 3,kernel_regularizer=regularizers.l2(0.0001), border_mode='same'))\n",
        "model1.add(Activation('relu'))\n",
        "model1.add(BatchNormalization())\n",
        "model1.add(Dropout(0.05))\n",
        "\n",
        "model1.add(Convolution2D(256, 3, 3,kernel_regularizer=regularizers.l2(0.0001), border_mode='same'))\n",
        "model1.add(Activation('relu'))\n",
        "model1.add(BatchNormalization())\n",
        "model1.add(Dropout(0.05))\n",
        "\n",
        "model1.add(MaxPooling2D(pool_size=(2, 2)))\n",
        "model1.add(Dropout(0.5))\n",
        "\n",
        "model1.add(Convolution2D(103, 2, 2))\n",
        "\n",
        "model1.add(AveragePooling2D(pool_size = (4,4)))\n",
        "model1.add(Flatten())\n",
        "\n",
        "\n",
        "model1.add(Activation('softmax'))\n",
        "\n",
        "# Compile the model\n",
        "model1.compile(optimizer='adam', loss='categorical_crossentropy', metrics=['accuracy'])\n"
      ],
      "execution_count": 152,
      "outputs": [
        {
          "output_type": "stream",
          "text": [
            "/usr/local/lib/python3.6/dist-packages/ipykernel_launcher.py:2: UserWarning: Update your `Conv2D` call to the Keras 2 API: `Conv2D(32, (3, 3), kernel_regularizer=<keras.reg..., input_shape=(64, 64, 3..., padding=\"same\")`\n",
            "  \n",
            "/usr/local/lib/python3.6/dist-packages/ipykernel_launcher.py:7: UserWarning: Update your `Conv2D` call to the Keras 2 API: `Conv2D(32, (3, 3), kernel_regularizer=<keras.reg..., input_shape=(64, 64, 3..., padding=\"same\")`\n",
            "  import sys\n",
            "/usr/local/lib/python3.6/dist-packages/ipykernel_launcher.py:12: UserWarning: Update your `Conv2D` call to the Keras 2 API: `Conv2D(64, (3, 3), kernel_regularizer=<keras.reg..., padding=\"same\")`\n",
            "  if sys.path[0] == '':\n",
            "/usr/local/lib/python3.6/dist-packages/ipykernel_launcher.py:20: UserWarning: Update your `Conv2D` call to the Keras 2 API: `Conv2D(32, (1, 1))`\n",
            "/usr/local/lib/python3.6/dist-packages/ipykernel_launcher.py:23: UserWarning: Update your `Conv2D` call to the Keras 2 API: `Conv2D(64, (3, 3), kernel_regularizer=<keras.reg..., padding=\"same\")`\n",
            "/usr/local/lib/python3.6/dist-packages/ipykernel_launcher.py:28: UserWarning: Update your `Conv2D` call to the Keras 2 API: `Conv2D(64, (3, 3), kernel_regularizer=<keras.reg..., padding=\"same\")`\n",
            "/usr/local/lib/python3.6/dist-packages/ipykernel_launcher.py:33: UserWarning: Update your `Conv2D` call to the Keras 2 API: `Conv2D(128, (3, 3), kernel_regularizer=<keras.reg..., padding=\"same\")`\n",
            "/usr/local/lib/python3.6/dist-packages/ipykernel_launcher.py:41: UserWarning: Update your `Conv2D` call to the Keras 2 API: `Conv2D(32, (1, 1))`\n",
            "/usr/local/lib/python3.6/dist-packages/ipykernel_launcher.py:44: UserWarning: Update your `Conv2D` call to the Keras 2 API: `Conv2D(128, (3, 3), kernel_regularizer=<keras.reg..., padding=\"same\")`\n",
            "/usr/local/lib/python3.6/dist-packages/ipykernel_launcher.py:49: UserWarning: Update your `Conv2D` call to the Keras 2 API: `Conv2D(128, (3, 3), kernel_regularizer=<keras.reg..., padding=\"same\")`\n",
            "/usr/local/lib/python3.6/dist-packages/ipykernel_launcher.py:54: UserWarning: Update your `Conv2D` call to the Keras 2 API: `Conv2D(256, (3, 3), kernel_regularizer=<keras.reg..., padding=\"same\")`\n",
            "/usr/local/lib/python3.6/dist-packages/ipykernel_launcher.py:62: UserWarning: Update your `Conv2D` call to the Keras 2 API: `Conv2D(103, (2, 2))`\n"
          ],
          "name": "stderr"
        }
      ]
    },
    {
      "cell_type": "code",
      "metadata": {
        "id": "C5bHD3jC2a1V",
        "colab_type": "code",
        "outputId": "d84c1613-6757-4886-8efe-ec4bfb2d0fc2",
        "colab": {
          "base_uri": "https://localhost:8080/",
          "height": 1000
        }
      },
      "source": [
        "model1.summary()"
      ],
      "execution_count": 141,
      "outputs": [
        {
          "output_type": "stream",
          "text": [
            "_________________________________________________________________\n",
            "Layer (type)                 Output Shape              Param #   \n",
            "=================================================================\n",
            "conv2d_73 (Conv2D)           (None, 64, 64, 32)        896       \n",
            "_________________________________________________________________\n",
            "activation_61 (Activation)   (None, 64, 64, 32)        0         \n",
            "_________________________________________________________________\n",
            "batch_normalization_55 (Batc (None, 64, 64, 32)        128       \n",
            "_________________________________________________________________\n",
            "dropout_55 (Dropout)         (None, 64, 64, 32)        0         \n",
            "_________________________________________________________________\n",
            "conv2d_74 (Conv2D)           (None, 64, 64, 32)        9248      \n",
            "_________________________________________________________________\n",
            "activation_62 (Activation)   (None, 64, 64, 32)        0         \n",
            "_________________________________________________________________\n",
            "batch_normalization_56 (Batc (None, 64, 64, 32)        128       \n",
            "_________________________________________________________________\n",
            "dropout_56 (Dropout)         (None, 64, 64, 32)        0         \n",
            "_________________________________________________________________\n",
            "conv2d_75 (Conv2D)           (None, 64, 64, 64)        18496     \n",
            "_________________________________________________________________\n",
            "activation_63 (Activation)   (None, 64, 64, 64)        0         \n",
            "_________________________________________________________________\n",
            "batch_normalization_57 (Batc (None, 64, 64, 64)        256       \n",
            "_________________________________________________________________\n",
            "dropout_57 (Dropout)         (None, 64, 64, 64)        0         \n",
            "_________________________________________________________________\n",
            "max_pooling2d_19 (MaxPooling (None, 32, 32, 64)        0         \n",
            "_________________________________________________________________\n",
            "dropout_58 (Dropout)         (None, 32, 32, 64)        0         \n",
            "_________________________________________________________________\n",
            "conv2d_76 (Conv2D)           (None, 32, 32, 32)        2080      \n",
            "_________________________________________________________________\n",
            "conv2d_77 (Conv2D)           (None, 32, 32, 64)        18496     \n",
            "_________________________________________________________________\n",
            "activation_64 (Activation)   (None, 32, 32, 64)        0         \n",
            "_________________________________________________________________\n",
            "batch_normalization_58 (Batc (None, 32, 32, 64)        256       \n",
            "_________________________________________________________________\n",
            "dropout_59 (Dropout)         (None, 32, 32, 64)        0         \n",
            "_________________________________________________________________\n",
            "conv2d_78 (Conv2D)           (None, 32, 32, 64)        36928     \n",
            "_________________________________________________________________\n",
            "activation_65 (Activation)   (None, 32, 32, 64)        0         \n",
            "_________________________________________________________________\n",
            "batch_normalization_59 (Batc (None, 32, 32, 64)        256       \n",
            "_________________________________________________________________\n",
            "dropout_60 (Dropout)         (None, 32, 32, 64)        0         \n",
            "_________________________________________________________________\n",
            "conv2d_79 (Conv2D)           (None, 32, 32, 128)       73856     \n",
            "_________________________________________________________________\n",
            "activation_66 (Activation)   (None, 32, 32, 128)       0         \n",
            "_________________________________________________________________\n",
            "batch_normalization_60 (Batc (None, 32, 32, 128)       512       \n",
            "_________________________________________________________________\n",
            "dropout_61 (Dropout)         (None, 32, 32, 128)       0         \n",
            "_________________________________________________________________\n",
            "max_pooling2d_20 (MaxPooling (None, 16, 16, 128)       0         \n",
            "_________________________________________________________________\n",
            "dropout_62 (Dropout)         (None, 16, 16, 128)       0         \n",
            "_________________________________________________________________\n",
            "conv2d_80 (Conv2D)           (None, 16, 16, 32)        4128      \n",
            "_________________________________________________________________\n",
            "conv2d_81 (Conv2D)           (None, 16, 16, 128)       36992     \n",
            "_________________________________________________________________\n",
            "activation_67 (Activation)   (None, 16, 16, 128)       0         \n",
            "_________________________________________________________________\n",
            "batch_normalization_61 (Batc (None, 16, 16, 128)       512       \n",
            "_________________________________________________________________\n",
            "dropout_63 (Dropout)         (None, 16, 16, 128)       0         \n",
            "_________________________________________________________________\n",
            "conv2d_82 (Conv2D)           (None, 16, 16, 128)       147584    \n",
            "_________________________________________________________________\n",
            "activation_68 (Activation)   (None, 16, 16, 128)       0         \n",
            "_________________________________________________________________\n",
            "batch_normalization_62 (Batc (None, 16, 16, 128)       512       \n",
            "_________________________________________________________________\n",
            "dropout_64 (Dropout)         (None, 16, 16, 128)       0         \n",
            "_________________________________________________________________\n",
            "conv2d_83 (Conv2D)           (None, 16, 16, 256)       295168    \n",
            "_________________________________________________________________\n",
            "activation_69 (Activation)   (None, 16, 16, 256)       0         \n",
            "_________________________________________________________________\n",
            "batch_normalization_63 (Batc (None, 16, 16, 256)       1024      \n",
            "_________________________________________________________________\n",
            "dropout_65 (Dropout)         (None, 16, 16, 256)       0         \n",
            "_________________________________________________________________\n",
            "max_pooling2d_21 (MaxPooling (None, 8, 8, 256)         0         \n",
            "_________________________________________________________________\n",
            "dropout_66 (Dropout)         (None, 8, 8, 256)         0         \n",
            "_________________________________________________________________\n",
            "conv2d_84 (Conv2D)           (None, 7, 7, 103)         105575    \n",
            "_________________________________________________________________\n",
            "average_pooling2d_7 (Average (None, 1, 1, 103)         0         \n",
            "_________________________________________________________________\n",
            "flatten_7 (Flatten)          (None, 103)               0         \n",
            "_________________________________________________________________\n",
            "activation_70 (Activation)   (None, 103)               0         \n",
            "=================================================================\n",
            "Total params: 753,031\n",
            "Trainable params: 751,239\n",
            "Non-trainable params: 1,792\n",
            "_________________________________________________________________\n"
          ],
          "name": "stdout"
        }
      ]
    },
    {
      "cell_type": "code",
      "metadata": {
        "id": "SX1IVwxoOKFo",
        "colab_type": "code",
        "outputId": "a6aa4e9e-61a5-4e10-b152-fc2ea52e808d",
        "colab": {
          "base_uri": "https://localhost:8080/",
          "height": 34
        }
      },
      "source": [
        "X_test.shape"
      ],
      "execution_count": 0,
      "outputs": [
        {
          "output_type": "execute_result",
          "data": {
            "text/plain": [
              "(4635, 64, 64, 3)"
            ]
          },
          "metadata": {
            "tags": []
          },
          "execution_count": 54
        }
      ]
    },
    {
      "cell_type": "code",
      "metadata": {
        "id": "gDj0lD9WEKCE",
        "colab_type": "code",
        "colab": {}
      },
      "source": [
        "datagen = ImageDataGenerator(featurewise_center=True, samplewise_center=True,vertical_flip = True,preprocessing_function=get_random_eraser(v_l=0, v_h=1),rotation_range=10,width_shift_range=0.2,\n",
        "    height_shift_range=0.2)\n",
        "datagen.fit(X_train)\n",
        "\n",
        "val_datagen = ImageDataGenerator(featurewise_center=True, samplewise_center=True)\n",
        "val_datagen.fit(X_train)\n",
        "\n",
        "\n",
        "# demonstrate effect on entire training dataset\n",
        "train_iterator = datagen.flow(X_train, y_train, batch_size=256, shuffle=False) #what is the use of shuffle\n",
        "val_iterator = val_datagen.flow(X_test, y_test, batch_size=64, shuffle=False)"
      ],
      "execution_count": 0,
      "outputs": []
    },
    {
      "cell_type": "code",
      "metadata": {
        "id": "g5SXEYRBWzpb",
        "colab_type": "code",
        "colab": {
          "base_uri": "https://localhost:8080/",
          "height": 102
        },
        "outputId": "17b67548-172c-4927-947a-e0d76944cb36"
      },
      "source": [
        "!git clone https://github.com/bckenstler/CLR.git"
      ],
      "execution_count": 80,
      "outputs": [
        {
          "output_type": "stream",
          "text": [
            "Cloning into 'CLR'...\n",
            "remote: Enumerating objects: 244, done.\u001b[K\n",
            "remote: Total 244 (delta 0), reused 0 (delta 0), pack-reused 244\u001b[K\n",
            "Receiving objects: 100% (244/244), 1.37 MiB | 2.89 MiB/s, done.\n",
            "Resolving deltas: 100% (86/86), done.\n"
          ],
          "name": "stdout"
        }
      ]
    },
    {
      "cell_type": "code",
      "metadata": {
        "id": "p1EsmnqmXG7W",
        "colab_type": "code",
        "colab": {
          "base_uri": "https://localhost:8080/",
          "height": 34
        },
        "outputId": "169ce36b-077a-45b8-f862-4526e64e0373"
      },
      "source": [
        "cd test"
      ],
      "execution_count": 97,
      "outputs": [
        {
          "output_type": "stream",
          "text": [
            "/content/data/test\n"
          ],
          "name": "stdout"
        }
      ]
    },
    {
      "cell_type": "code",
      "metadata": {
        "id": "nF5n1Gthc9HB",
        "colab_type": "code",
        "colab": {}
      },
      "source": [
        "from keras.callbacks import ModelCheckpoint\n",
        "from keras.callbacks import *\n",
        "from clr_callback import *\n",
        "from keras.optimizers import SGD\n"
      ],
      "execution_count": 0,
      "outputs": []
    },
    {
      "cell_type": "code",
      "metadata": {
        "id": "GQKE0PeMdSCv",
        "colab_type": "code",
        "colab": {}
      },
      "source": [
        "# You are using the triangular learning rate policy and\n",
        "#  base_lr (initial learning rate which is the lower boundary in the cycle) is 0.1\n",
        "clr_triangular = CyclicLR(mode='triangular')\n",
        "model1.compile(optimizer=SGD(0.01), loss='categorical_crossentropy', metrics=['accuracy'])"
      ],
      "execution_count": 0,
      "outputs": []
    },
    {
      "cell_type": "code",
      "metadata": {
        "id": "kQ3yTcJjdQQR",
        "colab_type": "code",
        "colab": {}
      },
      "source": [
        " mcp_save = ModelCheckpoint('../data/mdl_wts.hdf5', save_best_only=True, monitor='val_loss', mode='min')"
      ],
      "execution_count": 0,
      "outputs": []
    },
    {
      "cell_type": "code",
      "metadata": {
        "id": "60GPxw1NY77o",
        "colab_type": "code",
        "colab": {
          "base_uri": "https://localhost:8080/",
          "height": 34
        },
        "outputId": "a5deab55-e73d-4292-a344-fbf24180a163"
      },
      "source": [
        "cd .."
      ],
      "execution_count": 109,
      "outputs": [
        {
          "output_type": "stream",
          "text": [
            "/content/data\n"
          ],
          "name": "stdout"
        }
      ]
    },
    {
      "cell_type": "code",
      "metadata": {
        "trusted": true,
        "id": "52K6NkjIeQOM",
        "colab_type": "code",
        "colab": {}
      },
      "source": [
        "model1.compile(loss='categorical_crossentropy',optimizer='adam',metrics=['accuracy'])"
      ],
      "execution_count": 0,
      "outputs": []
    },
    {
      "cell_type": "code",
      "metadata": {
        "id": "ktZ1ncbMR54U",
        "colab_type": "code",
        "outputId": "f6e1e6d8-0db6-4ca0-eb3f-aa8f408b13d2",
        "colab": {
          "base_uri": "https://localhost:8080/",
          "height": 1000
        }
      },
      "source": [
        "#103\n",
        "model1.fit_generator(train_iterator, steps_per_epoch=55, verbose=1,nb_epoch=200,\n",
        "                    validation_data=val_iterator,validation_steps = 71,callbacks=[mcp_save,clr_triangular] )"
      ],
      "execution_count": 154,
      "outputs": [
        {
          "output_type": "stream",
          "text": [
            "/usr/local/lib/python3.6/dist-packages/ipykernel_launcher.py:2: UserWarning: The semantics of the Keras 2 argument `steps_per_epoch` is not the same as the Keras 1 argument `samples_per_epoch`. `steps_per_epoch` is the number of batches to draw from the generator at each epoch. Basically steps_per_epoch = samples_per_epoch/batch_size. Similarly `nb_val_samples`->`validation_steps` and `val_samples`->`steps` arguments have changed. Update your method calls accordingly.\n",
            "  \n",
            "/usr/local/lib/python3.6/dist-packages/ipykernel_launcher.py:2: UserWarning: Update your `fit_generator` call to the Keras 2 API: `fit_generator(<keras_pre..., steps_per_epoch=55, verbose=1, validation_data=<keras_pre..., validation_steps=71, callbacks=[<keras.ca..., epochs=200)`\n",
            "  \n"
          ],
          "name": "stderr"
        },
        {
          "output_type": "stream",
          "text": [
            "Epoch 1/200\n",
            "55/55 [==============================] - 44s 802ms/step - loss: 3.9492 - acc: 0.1193 - val_loss: 4.7429 - val_acc: 0.1591\n",
            "Epoch 2/200\n",
            "55/55 [==============================] - 38s 696ms/step - loss: 3.1236 - acc: 0.2380 - val_loss: 3.8586 - val_acc: 0.2276\n",
            "Epoch 3/200\n",
            "55/55 [==============================] - 38s 693ms/step - loss: 2.7710 - acc: 0.2983 - val_loss: 3.9941 - val_acc: 0.2665\n",
            "Epoch 4/200\n",
            "55/55 [==============================] - 38s 693ms/step - loss: 2.5582 - acc: 0.3440 - val_loss: 4.5074 - val_acc: 0.2248\n",
            "Epoch 5/200\n",
            "55/55 [==============================] - 38s 694ms/step - loss: 2.3984 - acc: 0.3794 - val_loss: 6.6239 - val_acc: 0.1722\n",
            "Epoch 6/200\n",
            "55/55 [==============================] - 38s 694ms/step - loss: 2.2177 - acc: 0.4236 - val_loss: 4.4609 - val_acc: 0.2518\n",
            "Epoch 7/200\n",
            "55/55 [==============================] - 38s 693ms/step - loss: 2.0960 - acc: 0.4504 - val_loss: 3.7436 - val_acc: 0.3046\n",
            "Epoch 8/200\n",
            "55/55 [==============================] - 38s 691ms/step - loss: 1.9758 - acc: 0.4825 - val_loss: 4.2631 - val_acc: 0.2842\n",
            "Epoch 9/200\n",
            "55/55 [==============================] - 38s 692ms/step - loss: 1.8673 - acc: 0.5153 - val_loss: 5.6222 - val_acc: 0.2190\n",
            "Epoch 10/200\n",
            "55/55 [==============================] - 38s 690ms/step - loss: 1.7526 - acc: 0.5430 - val_loss: 4.5488 - val_acc: 0.2807\n",
            "Epoch 11/200\n",
            "55/55 [==============================] - 38s 690ms/step - loss: 1.6849 - acc: 0.5604 - val_loss: 5.1308 - val_acc: 0.2702\n",
            "Epoch 12/200\n",
            "55/55 [==============================] - 38s 690ms/step - loss: 1.6725 - acc: 0.5672 - val_loss: 6.0833 - val_acc: 0.2423\n",
            "Epoch 13/200\n",
            "55/55 [==============================] - 38s 690ms/step - loss: 1.5604 - acc: 0.5993 - val_loss: 5.4801 - val_acc: 0.3071\n",
            "Epoch 14/200\n",
            "55/55 [==============================] - 38s 690ms/step - loss: 1.5493 - acc: 0.6020 - val_loss: 7.1147 - val_acc: 0.2474\n",
            "Epoch 15/200\n",
            "55/55 [==============================] - 38s 690ms/step - loss: 1.4955 - acc: 0.6177 - val_loss: 6.5186 - val_acc: 0.2829\n",
            "Epoch 16/200\n",
            "55/55 [==============================] - 38s 690ms/step - loss: 1.5119 - acc: 0.6222 - val_loss: 4.8566 - val_acc: 0.3628\n",
            "Epoch 17/200\n",
            "55/55 [==============================] - 38s 691ms/step - loss: 1.4459 - acc: 0.6398 - val_loss: 5.0958 - val_acc: 0.3583\n",
            "Epoch 18/200\n",
            "55/55 [==============================] - 38s 690ms/step - loss: 1.4199 - acc: 0.6514 - val_loss: 4.3550 - val_acc: 0.4149\n",
            "Epoch 19/200\n",
            "55/55 [==============================] - 38s 689ms/step - loss: 1.3754 - acc: 0.6605 - val_loss: 4.4611 - val_acc: 0.4065\n",
            "Epoch 20/200\n",
            "55/55 [==============================] - 38s 689ms/step - loss: 1.3293 - acc: 0.6793 - val_loss: 4.4637 - val_acc: 0.4032\n",
            "Epoch 21/200\n",
            "55/55 [==============================] - 38s 686ms/step - loss: 1.3348 - acc: 0.6760 - val_loss: 3.8924 - val_acc: 0.4358\n",
            "Epoch 22/200\n",
            "55/55 [==============================] - 38s 690ms/step - loss: 1.3436 - acc: 0.6782 - val_loss: 3.8113 - val_acc: 0.4875\n",
            "Epoch 23/200\n",
            "55/55 [==============================] - 38s 689ms/step - loss: 1.3183 - acc: 0.6949 - val_loss: 4.8032 - val_acc: 0.4063\n",
            "Epoch 24/200\n",
            "55/55 [==============================] - 38s 687ms/step - loss: 1.3032 - acc: 0.6981 - val_loss: 4.0100 - val_acc: 0.4471\n",
            "Epoch 25/200\n",
            "55/55 [==============================] - 38s 687ms/step - loss: 1.2974 - acc: 0.6998 - val_loss: 4.1873 - val_acc: 0.4624\n",
            "Epoch 26/200\n",
            "55/55 [==============================] - 38s 688ms/step - loss: 1.2934 - acc: 0.7072 - val_loss: 4.2149 - val_acc: 0.4438\n",
            "Epoch 27/200\n",
            "55/55 [==============================] - 38s 689ms/step - loss: 1.2896 - acc: 0.7141 - val_loss: 3.7394 - val_acc: 0.4684\n",
            "Epoch 28/200\n",
            "55/55 [==============================] - 38s 688ms/step - loss: 1.2801 - acc: 0.7194 - val_loss: 2.8314 - val_acc: 0.5729\n",
            "Epoch 29/200\n",
            "55/55 [==============================] - 38s 689ms/step - loss: 1.2774 - acc: 0.7213 - val_loss: 2.8345 - val_acc: 0.5516\n",
            "Epoch 30/200\n",
            "55/55 [==============================] - 38s 687ms/step - loss: 1.2655 - acc: 0.7294 - val_loss: 4.6361 - val_acc: 0.4533\n",
            "Epoch 31/200\n",
            "55/55 [==============================] - 38s 686ms/step - loss: 1.2828 - acc: 0.7289 - val_loss: 3.1931 - val_acc: 0.5671\n",
            "Epoch 32/200\n",
            "55/55 [==============================] - 38s 689ms/step - loss: 1.2679 - acc: 0.7333 - val_loss: 4.1107 - val_acc: 0.4595\n",
            "Epoch 33/200\n",
            "55/55 [==============================] - 38s 688ms/step - loss: 1.2617 - acc: 0.7365 - val_loss: 3.0325 - val_acc: 0.5755\n",
            "Epoch 34/200\n",
            "55/55 [==============================] - 38s 685ms/step - loss: 1.2858 - acc: 0.7364 - val_loss: 2.6696 - val_acc: 0.5698\n",
            "Epoch 35/200\n",
            "55/55 [==============================] - 38s 687ms/step - loss: 1.3166 - acc: 0.7301 - val_loss: 3.5844 - val_acc: 0.5057\n",
            "Epoch 36/200\n",
            "55/55 [==============================] - 38s 691ms/step - loss: 1.2858 - acc: 0.7400 - val_loss: 2.6528 - val_acc: 0.6082\n",
            "Epoch 37/200\n",
            "55/55 [==============================] - 38s 693ms/step - loss: 1.2830 - acc: 0.7485 - val_loss: 2.1336 - val_acc: 0.6582\n",
            "Epoch 38/200\n",
            "55/55 [==============================] - 38s 692ms/step - loss: 1.2759 - acc: 0.7498 - val_loss: 2.9013 - val_acc: 0.5818\n",
            "Epoch 39/200\n",
            "55/55 [==============================] - 38s 693ms/step - loss: 1.2481 - acc: 0.7590 - val_loss: 2.1096 - val_acc: 0.6470\n",
            "Epoch 40/200\n",
            "55/55 [==============================] - 38s 693ms/step - loss: 1.2109 - acc: 0.7698 - val_loss: 1.7815 - val_acc: 0.7320\n",
            "Epoch 41/200\n",
            "55/55 [==============================] - 38s 693ms/step - loss: 1.1992 - acc: 0.7763 - val_loss: 2.8194 - val_acc: 0.5960\n",
            "Epoch 42/200\n",
            "55/55 [==============================] - 38s 693ms/step - loss: 1.2246 - acc: 0.7704 - val_loss: 2.1483 - val_acc: 0.6532\n",
            "Epoch 43/200\n",
            "55/55 [==============================] - 38s 691ms/step - loss: 1.1864 - acc: 0.7824 - val_loss: 1.7726 - val_acc: 0.7089\n",
            "Epoch 44/200\n",
            "55/55 [==============================] - 38s 692ms/step - loss: 1.1293 - acc: 0.8001 - val_loss: 3.0621 - val_acc: 0.5381\n",
            "Epoch 45/200\n",
            "55/55 [==============================] - 38s 692ms/step - loss: 1.1246 - acc: 0.7978 - val_loss: 1.5771 - val_acc: 0.7291\n",
            "Epoch 46/200\n",
            "55/55 [==============================] - 38s 692ms/step - loss: 1.1281 - acc: 0.7993 - val_loss: 2.0650 - val_acc: 0.6747\n",
            "Epoch 47/200\n",
            "55/55 [==============================] - 38s 693ms/step - loss: 1.1376 - acc: 0.7940 - val_loss: 1.3884 - val_acc: 0.7659\n",
            "Epoch 48/200\n",
            "55/55 [==============================] - 38s 694ms/step - loss: 1.0769 - acc: 0.8160 - val_loss: 1.9202 - val_acc: 0.6967\n",
            "Epoch 49/200\n",
            "55/55 [==============================] - 38s 693ms/step - loss: 1.0568 - acc: 0.8159 - val_loss: 1.7290 - val_acc: 0.7220\n",
            "Epoch 50/200\n",
            "55/55 [==============================] - 38s 693ms/step - loss: 1.0877 - acc: 0.8089 - val_loss: 1.8213 - val_acc: 0.7025\n",
            "Epoch 51/200\n",
            "55/55 [==============================] - 38s 691ms/step - loss: 1.0709 - acc: 0.8134 - val_loss: 2.1061 - val_acc: 0.6505\n",
            "Epoch 52/200\n",
            "55/55 [==============================] - 38s 693ms/step - loss: 1.0288 - acc: 0.8253 - val_loss: 1.4294 - val_acc: 0.7542\n",
            "Epoch 53/200\n",
            "55/55 [==============================] - 38s 692ms/step - loss: 1.0071 - acc: 0.8294 - val_loss: 1.9093 - val_acc: 0.7065\n",
            "Epoch 54/200\n",
            "55/55 [==============================] - 38s 694ms/step - loss: 0.9891 - acc: 0.8315 - val_loss: 1.4533 - val_acc: 0.7659\n",
            "Epoch 55/200\n",
            "55/55 [==============================] - 38s 691ms/step - loss: 0.9829 - acc: 0.8332 - val_loss: 1.5591 - val_acc: 0.7415\n",
            "Epoch 56/200\n",
            "55/55 [==============================] - 38s 693ms/step - loss: 0.9656 - acc: 0.8393 - val_loss: 1.4286 - val_acc: 0.7633\n",
            "Epoch 57/200\n",
            "55/55 [==============================] - 38s 693ms/step - loss: 0.9292 - acc: 0.8469 - val_loss: 1.6422 - val_acc: 0.7446\n",
            "Epoch 58/200\n",
            "55/55 [==============================] - 38s 693ms/step - loss: 0.8889 - acc: 0.8596 - val_loss: 1.0813 - val_acc: 0.8252\n",
            "Epoch 59/200\n",
            "55/55 [==============================] - 38s 692ms/step - loss: 0.8882 - acc: 0.8526 - val_loss: 2.0921 - val_acc: 0.6734\n",
            "Epoch 60/200\n",
            "55/55 [==============================] - 38s 692ms/step - loss: 0.9083 - acc: 0.8515 - val_loss: 1.0364 - val_acc: 0.8276\n",
            "Epoch 61/200\n",
            "55/55 [==============================] - 38s 691ms/step - loss: 0.8554 - acc: 0.8637 - val_loss: 1.4487 - val_acc: 0.7657\n",
            "Epoch 62/200\n",
            "55/55 [==============================] - 38s 691ms/step - loss: 0.8425 - acc: 0.8650 - val_loss: 1.3703 - val_acc: 0.7957\n",
            "Epoch 63/200\n",
            "55/55 [==============================] - 38s 691ms/step - loss: 0.8448 - acc: 0.8632 - val_loss: 1.4617 - val_acc: 0.7615\n",
            "Epoch 64/200\n",
            "55/55 [==============================] - 38s 693ms/step - loss: 0.8131 - acc: 0.8747 - val_loss: 1.1814 - val_acc: 0.8158\n",
            "Epoch 65/200\n",
            "55/55 [==============================] - 38s 693ms/step - loss: 0.7985 - acc: 0.8747 - val_loss: 1.3051 - val_acc: 0.7903\n",
            "Epoch 66/200\n",
            "55/55 [==============================] - 38s 693ms/step - loss: 0.7720 - acc: 0.8794 - val_loss: 1.0748 - val_acc: 0.8354\n",
            "Epoch 67/200\n",
            "55/55 [==============================] - 38s 692ms/step - loss: 0.7442 - acc: 0.8871 - val_loss: 1.0923 - val_acc: 0.8181\n",
            "Epoch 68/200\n",
            "55/55 [==============================] - 38s 694ms/step - loss: 0.7144 - acc: 0.8940 - val_loss: 1.2730 - val_acc: 0.7748\n",
            "Epoch 69/200\n",
            "55/55 [==============================] - 38s 693ms/step - loss: 0.7000 - acc: 0.8978 - val_loss: 1.4359 - val_acc: 0.7777\n",
            "Epoch 70/200\n",
            "55/55 [==============================] - 38s 692ms/step - loss: 0.6710 - acc: 0.9046 - val_loss: 0.9590 - val_acc: 0.8520\n",
            "Epoch 71/200\n",
            "55/55 [==============================] - 38s 692ms/step - loss: 0.6624 - acc: 0.9067 - val_loss: 0.9535 - val_acc: 0.8505\n",
            "Epoch 72/200\n",
            "55/55 [==============================] - 38s 693ms/step - loss: 0.6317 - acc: 0.9121 - val_loss: 0.9827 - val_acc: 0.8449\n",
            "Epoch 73/200\n",
            "55/55 [==============================] - 38s 693ms/step - loss: 0.6107 - acc: 0.9188 - val_loss: 1.0505 - val_acc: 0.8309\n",
            "Epoch 74/200\n",
            "55/55 [==============================] - 38s 693ms/step - loss: 0.6183 - acc: 0.9135 - val_loss: 0.8720 - val_acc: 0.8666\n",
            "Epoch 75/200\n",
            "55/55 [==============================] - 38s 692ms/step - loss: 0.6256 - acc: 0.9111 - val_loss: 1.0175 - val_acc: 0.8460\n",
            "Epoch 76/200\n",
            "55/55 [==============================] - 38s 693ms/step - loss: 0.6248 - acc: 0.9054 - val_loss: 0.9685 - val_acc: 0.8422\n",
            "Epoch 77/200\n",
            "55/55 [==============================] - 38s 693ms/step - loss: 0.6346 - acc: 0.9045 - val_loss: 1.2106 - val_acc: 0.8096\n",
            "Epoch 78/200\n",
            "55/55 [==============================] - 38s 692ms/step - loss: 0.6700 - acc: 0.8937 - val_loss: 1.1524 - val_acc: 0.8141\n",
            "Epoch 79/200\n",
            "55/55 [==============================] - 38s 692ms/step - loss: 0.6812 - acc: 0.8887 - val_loss: 1.0127 - val_acc: 0.8485\n",
            "Epoch 80/200\n",
            "55/55 [==============================] - 38s 693ms/step - loss: 0.7111 - acc: 0.8825 - val_loss: 1.4446 - val_acc: 0.7708\n",
            "Epoch 81/200\n",
            "55/55 [==============================] - 38s 693ms/step - loss: 0.7577 - acc: 0.8715 - val_loss: 1.4705 - val_acc: 0.7779\n",
            "Epoch 82/200\n",
            "55/55 [==============================] - 38s 691ms/step - loss: 0.8016 - acc: 0.8549 - val_loss: 1.2517 - val_acc: 0.7981\n",
            "Epoch 83/200\n",
            "55/55 [==============================] - 38s 691ms/step - loss: 0.7990 - acc: 0.8653 - val_loss: 1.9269 - val_acc: 0.7479\n",
            "Epoch 84/200\n",
            "55/55 [==============================] - 38s 690ms/step - loss: 0.8441 - acc: 0.8503 - val_loss: 2.4644 - val_acc: 0.6763\n",
            "Epoch 85/200\n",
            "55/55 [==============================] - 38s 690ms/step - loss: 0.8932 - acc: 0.8417 - val_loss: 1.6249 - val_acc: 0.7444\n",
            "Epoch 86/200\n",
            "55/55 [==============================] - 38s 691ms/step - loss: 0.9052 - acc: 0.8387 - val_loss: 1.7515 - val_acc: 0.7488\n",
            "Epoch 87/200\n",
            "55/55 [==============================] - 38s 691ms/step - loss: 0.9422 - acc: 0.8321 - val_loss: 1.8259 - val_acc: 0.7266\n",
            "Epoch 88/200\n",
            "55/55 [==============================] - 38s 690ms/step - loss: 0.9292 - acc: 0.8377 - val_loss: 2.0510 - val_acc: 0.7078\n",
            "Epoch 89/200\n",
            "55/55 [==============================] - 38s 692ms/step - loss: 0.9543 - acc: 0.8366 - val_loss: 2.0301 - val_acc: 0.7255\n",
            "Epoch 90/200\n",
            "55/55 [==============================] - 38s 690ms/step - loss: 0.9526 - acc: 0.8389 - val_loss: 2.2082 - val_acc: 0.6769\n",
            "Epoch 91/200\n",
            "55/55 [==============================] - 38s 690ms/step - loss: 0.9989 - acc: 0.8257 - val_loss: 2.3832 - val_acc: 0.6652\n",
            "Epoch 92/200\n",
            "55/55 [==============================] - 38s 689ms/step - loss: 1.0273 - acc: 0.8202 - val_loss: 2.5331 - val_acc: 0.6583\n",
            "Epoch 93/200\n",
            "55/55 [==============================] - 38s 690ms/step - loss: 0.9916 - acc: 0.8339 - val_loss: 1.6967 - val_acc: 0.7497\n",
            "Epoch 94/200\n",
            "55/55 [==============================] - 38s 691ms/step - loss: 1.0313 - acc: 0.8247 - val_loss: 2.7981 - val_acc: 0.6153\n",
            "Epoch 95/200\n",
            "55/55 [==============================] - 38s 691ms/step - loss: 1.0550 - acc: 0.8194 - val_loss: 2.1791 - val_acc: 0.6909\n",
            "Epoch 96/200\n",
            "55/55 [==============================] - 38s 689ms/step - loss: 1.0801 - acc: 0.8150 - val_loss: 1.8508 - val_acc: 0.7349\n",
            "Epoch 97/200\n",
            "55/55 [==============================] - 38s 691ms/step - loss: 1.0504 - acc: 0.8273 - val_loss: 2.5021 - val_acc: 0.6292\n",
            "Epoch 98/200\n",
            "55/55 [==============================] - 38s 691ms/step - loss: 1.1143 - acc: 0.8115 - val_loss: 3.6065 - val_acc: 0.5403\n",
            "Epoch 99/200\n",
            "55/55 [==============================] - 38s 689ms/step - loss: 1.0910 - acc: 0.8200 - val_loss: 2.7795 - val_acc: 0.6381\n",
            "Epoch 100/200\n",
            "55/55 [==============================] - 38s 689ms/step - loss: 1.1186 - acc: 0.8129 - val_loss: 2.3258 - val_acc: 0.6634\n",
            "Epoch 101/200\n",
            "31/55 [===============>..............] - ETA: 15s - loss: 1.1677 - acc: 0.8062"
          ],
          "name": "stdout"
        },
        {
          "output_type": "error",
          "ename": "KeyboardInterrupt",
          "evalue": "ignored",
          "traceback": [
            "\u001b[0;31m---------------------------------------------------------------------------\u001b[0m",
            "\u001b[0;31mKeyboardInterrupt\u001b[0m                         Traceback (most recent call last)",
            "\u001b[0;32m<ipython-input-154-a628f7d2c0a7>\u001b[0m in \u001b[0;36m<module>\u001b[0;34m()\u001b[0m\n\u001b[1;32m      1\u001b[0m model1.fit_generator(train_iterator, steps_per_epoch=55, verbose=1,nb_epoch=200,\n\u001b[0;32m----> 2\u001b[0;31m                     validation_data=val_iterator,validation_steps = 71,callbacks=[mcp_save,clr_triangular] )\n\u001b[0m",
            "\u001b[0;32m/usr/local/lib/python3.6/dist-packages/keras/legacy/interfaces.py\u001b[0m in \u001b[0;36mwrapper\u001b[0;34m(*args, **kwargs)\u001b[0m\n\u001b[1;32m     89\u001b[0m                 warnings.warn('Update your `' + object_name + '` call to the ' +\n\u001b[1;32m     90\u001b[0m                               'Keras 2 API: ' + signature, stacklevel=2)\n\u001b[0;32m---> 91\u001b[0;31m             \u001b[0;32mreturn\u001b[0m \u001b[0mfunc\u001b[0m\u001b[0;34m(\u001b[0m\u001b[0;34m*\u001b[0m\u001b[0margs\u001b[0m\u001b[0;34m,\u001b[0m \u001b[0;34m**\u001b[0m\u001b[0mkwargs\u001b[0m\u001b[0;34m)\u001b[0m\u001b[0;34m\u001b[0m\u001b[0;34m\u001b[0m\u001b[0m\n\u001b[0m\u001b[1;32m     92\u001b[0m         \u001b[0mwrapper\u001b[0m\u001b[0;34m.\u001b[0m\u001b[0m_original_function\u001b[0m \u001b[0;34m=\u001b[0m \u001b[0mfunc\u001b[0m\u001b[0;34m\u001b[0m\u001b[0;34m\u001b[0m\u001b[0m\n\u001b[1;32m     93\u001b[0m         \u001b[0;32mreturn\u001b[0m \u001b[0mwrapper\u001b[0m\u001b[0;34m\u001b[0m\u001b[0;34m\u001b[0m\u001b[0m\n",
            "\u001b[0;32m/usr/local/lib/python3.6/dist-packages/keras/engine/training.py\u001b[0m in \u001b[0;36mfit_generator\u001b[0;34m(self, generator, steps_per_epoch, epochs, verbose, callbacks, validation_data, validation_steps, class_weight, max_queue_size, workers, use_multiprocessing, shuffle, initial_epoch)\u001b[0m\n\u001b[1;32m   1416\u001b[0m             \u001b[0muse_multiprocessing\u001b[0m\u001b[0;34m=\u001b[0m\u001b[0muse_multiprocessing\u001b[0m\u001b[0;34m,\u001b[0m\u001b[0;34m\u001b[0m\u001b[0;34m\u001b[0m\u001b[0m\n\u001b[1;32m   1417\u001b[0m             \u001b[0mshuffle\u001b[0m\u001b[0;34m=\u001b[0m\u001b[0mshuffle\u001b[0m\u001b[0;34m,\u001b[0m\u001b[0;34m\u001b[0m\u001b[0;34m\u001b[0m\u001b[0m\n\u001b[0;32m-> 1418\u001b[0;31m             initial_epoch=initial_epoch)\n\u001b[0m\u001b[1;32m   1419\u001b[0m \u001b[0;34m\u001b[0m\u001b[0m\n\u001b[1;32m   1420\u001b[0m     \u001b[0;34m@\u001b[0m\u001b[0minterfaces\u001b[0m\u001b[0;34m.\u001b[0m\u001b[0mlegacy_generator_methods_support\u001b[0m\u001b[0;34m\u001b[0m\u001b[0;34m\u001b[0m\u001b[0m\n",
            "\u001b[0;32m/usr/local/lib/python3.6/dist-packages/keras/engine/training_generator.py\u001b[0m in \u001b[0;36mfit_generator\u001b[0;34m(model, generator, steps_per_epoch, epochs, verbose, callbacks, validation_data, validation_steps, class_weight, max_queue_size, workers, use_multiprocessing, shuffle, initial_epoch)\u001b[0m\n\u001b[1;32m    215\u001b[0m                 outs = model.train_on_batch(x, y,\n\u001b[1;32m    216\u001b[0m                                             \u001b[0msample_weight\u001b[0m\u001b[0;34m=\u001b[0m\u001b[0msample_weight\u001b[0m\u001b[0;34m,\u001b[0m\u001b[0;34m\u001b[0m\u001b[0;34m\u001b[0m\u001b[0m\n\u001b[0;32m--> 217\u001b[0;31m                                             class_weight=class_weight)\n\u001b[0m\u001b[1;32m    218\u001b[0m \u001b[0;34m\u001b[0m\u001b[0m\n\u001b[1;32m    219\u001b[0m                 \u001b[0mouts\u001b[0m \u001b[0;34m=\u001b[0m \u001b[0mto_list\u001b[0m\u001b[0;34m(\u001b[0m\u001b[0mouts\u001b[0m\u001b[0;34m)\u001b[0m\u001b[0;34m\u001b[0m\u001b[0;34m\u001b[0m\u001b[0m\n",
            "\u001b[0;32m/usr/local/lib/python3.6/dist-packages/keras/engine/training.py\u001b[0m in \u001b[0;36mtrain_on_batch\u001b[0;34m(self, x, y, sample_weight, class_weight)\u001b[0m\n\u001b[1;32m   1215\u001b[0m             \u001b[0mins\u001b[0m \u001b[0;34m=\u001b[0m \u001b[0mx\u001b[0m \u001b[0;34m+\u001b[0m \u001b[0my\u001b[0m \u001b[0;34m+\u001b[0m \u001b[0msample_weights\u001b[0m\u001b[0;34m\u001b[0m\u001b[0;34m\u001b[0m\u001b[0m\n\u001b[1;32m   1216\u001b[0m         \u001b[0mself\u001b[0m\u001b[0;34m.\u001b[0m\u001b[0m_make_train_function\u001b[0m\u001b[0;34m(\u001b[0m\u001b[0;34m)\u001b[0m\u001b[0;34m\u001b[0m\u001b[0;34m\u001b[0m\u001b[0m\n\u001b[0;32m-> 1217\u001b[0;31m         \u001b[0moutputs\u001b[0m \u001b[0;34m=\u001b[0m \u001b[0mself\u001b[0m\u001b[0;34m.\u001b[0m\u001b[0mtrain_function\u001b[0m\u001b[0;34m(\u001b[0m\u001b[0mins\u001b[0m\u001b[0;34m)\u001b[0m\u001b[0;34m\u001b[0m\u001b[0;34m\u001b[0m\u001b[0m\n\u001b[0m\u001b[1;32m   1218\u001b[0m         \u001b[0;32mreturn\u001b[0m \u001b[0munpack_singleton\u001b[0m\u001b[0;34m(\u001b[0m\u001b[0moutputs\u001b[0m\u001b[0;34m)\u001b[0m\u001b[0;34m\u001b[0m\u001b[0;34m\u001b[0m\u001b[0m\n\u001b[1;32m   1219\u001b[0m \u001b[0;34m\u001b[0m\u001b[0m\n",
            "\u001b[0;32m/usr/local/lib/python3.6/dist-packages/keras/backend/tensorflow_backend.py\u001b[0m in \u001b[0;36m__call__\u001b[0;34m(self, inputs)\u001b[0m\n\u001b[1;32m   2713\u001b[0m                 \u001b[0;32mreturn\u001b[0m \u001b[0mself\u001b[0m\u001b[0;34m.\u001b[0m\u001b[0m_legacy_call\u001b[0m\u001b[0;34m(\u001b[0m\u001b[0minputs\u001b[0m\u001b[0;34m)\u001b[0m\u001b[0;34m\u001b[0m\u001b[0;34m\u001b[0m\u001b[0m\n\u001b[1;32m   2714\u001b[0m \u001b[0;34m\u001b[0m\u001b[0m\n\u001b[0;32m-> 2715\u001b[0;31m             \u001b[0;32mreturn\u001b[0m \u001b[0mself\u001b[0m\u001b[0;34m.\u001b[0m\u001b[0m_call\u001b[0m\u001b[0;34m(\u001b[0m\u001b[0minputs\u001b[0m\u001b[0;34m)\u001b[0m\u001b[0;34m\u001b[0m\u001b[0;34m\u001b[0m\u001b[0m\n\u001b[0m\u001b[1;32m   2716\u001b[0m         \u001b[0;32melse\u001b[0m\u001b[0;34m:\u001b[0m\u001b[0;34m\u001b[0m\u001b[0;34m\u001b[0m\u001b[0m\n\u001b[1;32m   2717\u001b[0m             \u001b[0;32mif\u001b[0m \u001b[0mpy_any\u001b[0m\u001b[0;34m(\u001b[0m\u001b[0mis_tensor\u001b[0m\u001b[0;34m(\u001b[0m\u001b[0mx\u001b[0m\u001b[0;34m)\u001b[0m \u001b[0;32mfor\u001b[0m \u001b[0mx\u001b[0m \u001b[0;32min\u001b[0m \u001b[0minputs\u001b[0m\u001b[0;34m)\u001b[0m\u001b[0;34m:\u001b[0m\u001b[0;34m\u001b[0m\u001b[0;34m\u001b[0m\u001b[0m\n",
            "\u001b[0;32m/usr/local/lib/python3.6/dist-packages/keras/backend/tensorflow_backend.py\u001b[0m in \u001b[0;36m_call\u001b[0;34m(self, inputs)\u001b[0m\n\u001b[1;32m   2673\u001b[0m             \u001b[0mfetched\u001b[0m \u001b[0;34m=\u001b[0m \u001b[0mself\u001b[0m\u001b[0;34m.\u001b[0m\u001b[0m_callable_fn\u001b[0m\u001b[0;34m(\u001b[0m\u001b[0;34m*\u001b[0m\u001b[0marray_vals\u001b[0m\u001b[0;34m,\u001b[0m \u001b[0mrun_metadata\u001b[0m\u001b[0;34m=\u001b[0m\u001b[0mself\u001b[0m\u001b[0;34m.\u001b[0m\u001b[0mrun_metadata\u001b[0m\u001b[0;34m)\u001b[0m\u001b[0;34m\u001b[0m\u001b[0;34m\u001b[0m\u001b[0m\n\u001b[1;32m   2674\u001b[0m         \u001b[0;32melse\u001b[0m\u001b[0;34m:\u001b[0m\u001b[0;34m\u001b[0m\u001b[0;34m\u001b[0m\u001b[0m\n\u001b[0;32m-> 2675\u001b[0;31m             \u001b[0mfetched\u001b[0m \u001b[0;34m=\u001b[0m \u001b[0mself\u001b[0m\u001b[0;34m.\u001b[0m\u001b[0m_callable_fn\u001b[0m\u001b[0;34m(\u001b[0m\u001b[0;34m*\u001b[0m\u001b[0marray_vals\u001b[0m\u001b[0;34m)\u001b[0m\u001b[0;34m\u001b[0m\u001b[0;34m\u001b[0m\u001b[0m\n\u001b[0m\u001b[1;32m   2676\u001b[0m         \u001b[0;32mreturn\u001b[0m \u001b[0mfetched\u001b[0m\u001b[0;34m[\u001b[0m\u001b[0;34m:\u001b[0m\u001b[0mlen\u001b[0m\u001b[0;34m(\u001b[0m\u001b[0mself\u001b[0m\u001b[0;34m.\u001b[0m\u001b[0moutputs\u001b[0m\u001b[0;34m)\u001b[0m\u001b[0;34m]\u001b[0m\u001b[0;34m\u001b[0m\u001b[0;34m\u001b[0m\u001b[0m\n\u001b[1;32m   2677\u001b[0m \u001b[0;34m\u001b[0m\u001b[0m\n",
            "\u001b[0;32m/usr/local/lib/python3.6/dist-packages/tensorflow/python/client/session.py\u001b[0m in \u001b[0;36m__call__\u001b[0;34m(self, *args, **kwargs)\u001b[0m\n\u001b[1;32m   1456\u001b[0m         ret = tf_session.TF_SessionRunCallable(self._session._session,\n\u001b[1;32m   1457\u001b[0m                                                \u001b[0mself\u001b[0m\u001b[0;34m.\u001b[0m\u001b[0m_handle\u001b[0m\u001b[0;34m,\u001b[0m \u001b[0margs\u001b[0m\u001b[0;34m,\u001b[0m\u001b[0;34m\u001b[0m\u001b[0;34m\u001b[0m\u001b[0m\n\u001b[0;32m-> 1458\u001b[0;31m                                                run_metadata_ptr)\n\u001b[0m\u001b[1;32m   1459\u001b[0m         \u001b[0;32mif\u001b[0m \u001b[0mrun_metadata\u001b[0m\u001b[0;34m:\u001b[0m\u001b[0;34m\u001b[0m\u001b[0;34m\u001b[0m\u001b[0m\n\u001b[1;32m   1460\u001b[0m           \u001b[0mproto_data\u001b[0m \u001b[0;34m=\u001b[0m \u001b[0mtf_session\u001b[0m\u001b[0;34m.\u001b[0m\u001b[0mTF_GetBuffer\u001b[0m\u001b[0;34m(\u001b[0m\u001b[0mrun_metadata_ptr\u001b[0m\u001b[0;34m)\u001b[0m\u001b[0;34m\u001b[0m\u001b[0;34m\u001b[0m\u001b[0m\n",
            "\u001b[0;31mKeyboardInterrupt\u001b[0m: "
          ]
        }
      ]
    },
    {
      "cell_type": "code",
      "metadata": {
        "id": "9Qwo8lzzdpsN",
        "colab_type": "code",
        "colab": {}
      },
      "source": [
        "model1.load_weights(filepath = '../data/mdl_wts.hdf5')"
      ],
      "execution_count": 0,
      "outputs": []
    },
    {
      "cell_type": "code",
      "metadata": {
        "id": "dQB8OJ21NqJc",
        "colab_type": "code",
        "colab": {}
      },
      "source": [
        "datagen = ImageDataGenerator(featurewise_center=True, samplewise_center=True)\n",
        "datagen.fit(X_train)\n",
        "\n",
        "val_datagen = ImageDataGenerator(featurewise_center=True, samplewise_center=True)\n",
        "val_datagen.fit(X_train)\n",
        "\n",
        "\n",
        "# demonstrate effect on entire training dataset\n",
        "train_iterator = datagen.flow(X_train, y_train, batch_size=128, shuffle=False) #what is the use of shuffle\n",
        "val_iterator = val_datagen.flow(X_test, y_test, batch_size=64, shuffle=False)"
      ],
      "execution_count": 0,
      "outputs": []
    },
    {
      "cell_type": "code",
      "metadata": {
        "id": "PgozdRvisrZj",
        "colab_type": "code",
        "colab": {}
      },
      "source": [
        "model1.compile(loss='categorical_crossentropy',optimizer='adam',metrics=['accuracy'])"
      ],
      "execution_count": 0,
      "outputs": []
    },
    {
      "cell_type": "code",
      "metadata": {
        "id": "BfIBVY5UNySW",
        "colab_type": "code",
        "outputId": "fa646d28-7d21-4026-c948-28e65cd52218",
        "colab": {
          "base_uri": "https://localhost:8080/",
          "height": 258
        }
      },
      "source": [
        "#2 gave me 76.9\n",
        "#thus total 105 epochs\n",
        "model1.fit_generator(train_iterator, steps_per_epoch=109, verbose=1,nb_epoch=4,\n",
        "                    validation_data=val_iterator,validation_steps = 71)"
      ],
      "execution_count": 168,
      "outputs": [
        {
          "output_type": "stream",
          "text": [
            "/usr/local/lib/python3.6/dist-packages/ipykernel_launcher.py:2: UserWarning: The semantics of the Keras 2 argument `steps_per_epoch` is not the same as the Keras 1 argument `samples_per_epoch`. `steps_per_epoch` is the number of batches to draw from the generator at each epoch. Basically steps_per_epoch = samples_per_epoch/batch_size. Similarly `nb_val_samples`->`validation_steps` and `val_samples`->`steps` arguments have changed. Update your method calls accordingly.\n",
            "  \n",
            "/usr/local/lib/python3.6/dist-packages/ipykernel_launcher.py:2: UserWarning: Update your `fit_generator` call to the Keras 2 API: `fit_generator(<keras_pre..., steps_per_epoch=109, verbose=1, validation_data=<keras_pre..., validation_steps=71, epochs=4)`\n",
            "  \n"
          ],
          "name": "stderr"
        },
        {
          "output_type": "stream",
          "text": [
            "Epoch 1/4\n",
            "109/109 [==============================] - 40s 367ms/step - loss: 2.0438 - acc: 0.6297 - val_loss: 2.9711 - val_acc: 0.5775\n",
            "Epoch 2/4\n",
            "109/109 [==============================] - 40s 366ms/step - loss: 1.2380 - acc: 0.8149 - val_loss: 1.4724 - val_acc: 0.7506\n",
            "Epoch 3/4\n",
            "109/109 [==============================] - 40s 366ms/step - loss: 1.0174 - acc: 0.8685 - val_loss: 1.3901 - val_acc: 0.7686\n",
            "Epoch 4/4\n",
            "109/109 [==============================] - 40s 365ms/step - loss: 0.9331 - acc: 0.8867 - val_loss: 1.2800 - val_acc: 0.7872\n"
          ],
          "name": "stdout"
        },
        {
          "output_type": "execute_result",
          "data": {
            "text/plain": [
              "<keras.callbacks.History at 0x7fa5e7b4f278>"
            ]
          },
          "metadata": {
            "tags": []
          },
          "execution_count": 168
        }
      ]
    },
    {
      "cell_type": "code",
      "metadata": {
        "id": "nUCZBEGsR6Le",
        "colab_type": "code",
        "colab": {}
      },
      "source": [
        "##Implementing CutOut\n",
        "import cv2\n",
        "def get_random_eraser(p=0.5, s_l=0.02, s_h=0.4, r_1=0.3, r_2=1/0.3, v_l=0, v_h=255, pixel_level=False):\n",
        "    #cutout\n",
        "    def eraser(input_img):\n",
        "        img_h, img_w, img_c = input_img.shape\n",
        "        p_1 = np.random.rand()\n",
        "\n",
        "        if p_1 > p:\n",
        "            return input_img\n",
        "\n",
        "        while True:\n",
        "            s = np.random.uniform(s_l, s_h) * img_h * img_w\n",
        "            r = np.random.uniform(r_1, r_2)\n",
        "            w = int(np.sqrt(s / r))\n",
        "            h = int(np.sqrt(s * r))\n",
        "            left = np.random.randint(0, img_w)\n",
        "            top = np.random.randint(0, img_h)\n",
        "\n",
        "            if left + w <= img_w and top + h <= img_h:\n",
        "                break\n",
        "\n",
        "        if pixel_level:\n",
        "            c = np.random.uniform(v_l, v_h, (h, w, img_c))\n",
        "        else:\n",
        "            c = np.random.uniform(v_l, v_h)\n",
        "\n",
        "        input_img[top:top + h, left:left + w, :] = c\n",
        "\n",
        "        return input_img\n",
        "    \n",
        "    #Random Crop\n",
        "    \n",
        "    def random_crop(input_img, random_crop_size =(64,64)):\n",
        "      # Note: image_data_format is 'channel_last'\n",
        "      assert input_img.shape[2] == 3\n",
        "      height, width = input_img.shape[0], input_img.shape[1]\n",
        "      dy, dx = random_crop_size\n",
        "      x = np.random.randint(0, width - dx + 1)\n",
        "      y = np.random.randint(0, height - dy + 1)\n",
        "      return input_img[y:(y+dy), x:(x+dx), :]\n",
        "    \n",
        "    \n",
        "    def Horizontal_Flip(input_img):\n",
        "      p0 = 0\n",
        "      \n",
        "      p_2 = np.random.rand()\n",
        "      \n",
        "      if p_2 > p0:\n",
        "        return input_img\n",
        "      else:\n",
        "        return(cv2.flip(input_img,1))\n",
        "      \n",
        "    #Adding padding\n",
        "    \n",
        "    def padding(input_image):\n",
        "      input_img = cv2.copyMakeBorder(input_image,0,4,4,0,cv2.BORDER_REPLICATE)\n",
        "      return input_img\n",
        "    \n",
        "    \n",
        "    def aggregate_all_augs(input_img):\n",
        "      return eraser(Horizontal_Flip(random_crop(padding(input_img))))\n",
        "\n",
        "    return aggregate_all_augs\n",
        "\n",
        "    "
      ],
      "execution_count": 0,
      "outputs": []
    },
    {
      "cell_type": "markdown",
      "metadata": {
        "id": "FkLfnRsL9MDh",
        "colab_type": "text"
      },
      "source": [
        "#### Maximum accuracy achieved 85% in 17th epoch"
      ]
    },
    {
      "cell_type": "code",
      "metadata": {
        "trusted": true,
        "id": "uFP2yAkieQOX",
        "colab_type": "code",
        "outputId": "7dcc6869-6cce-4f6f-c2f0-d1e37de6a39e",
        "colab": {
          "base_uri": "https://localhost:8080/",
          "height": 34
        }
      },
      "source": [
        "df_test = pd.read_csv(\"../data/test.csv\")\n",
        "df_test['image_id'][0]"
      ],
      "execution_count": 47,
      "outputs": [
        {
          "output_type": "execute_result",
          "data": {
            "text/plain": [
              "18540"
            ]
          },
          "metadata": {
            "tags": []
          },
          "execution_count": 47
        }
      ]
    },
    {
      "cell_type": "code",
      "metadata": {
        "trusted": true,
        "id": "KceJEKGXeQOb",
        "colab_type": "code",
        "outputId": "efe7e1ae-3aa3-4913-e51c-661816470c8b",
        "colab": {
          "base_uri": "https://localhost:8080/",
          "height": 34
        }
      },
      "source": [
        "test_image = []\n",
        "for i in tqdm(range(df_test.shape[0])):\n",
        "    img = image.load_img('../data/test/'+df_test['image_id'][i].astype('str')+'.jpg', target_size=(64,64,1))\n",
        "    img = image.img_to_array(img)\n",
        "    img = img/255\n",
        "    test_image.append(img)\n",
        "test = np.array(test_image)"
      ],
      "execution_count": 48,
      "outputs": [
        {
          "output_type": "stream",
          "text": [
            "100%|██████████| 2009/2009 [00:09<00:00, 211.11it/s]\n"
          ],
          "name": "stderr"
        }
      ]
    },
    {
      "cell_type": "code",
      "metadata": {
        "id": "dhrSqMpeHuBF",
        "colab_type": "code",
        "outputId": "b1495a38-9f9d-4d79-9552-b6c88e0795f2",
        "colab": {
          "base_uri": "https://localhost:8080/",
          "height": 34
        }
      },
      "source": [
        "test[1].max()"
      ],
      "execution_count": 0,
      "outputs": [
        {
          "output_type": "execute_result",
          "data": {
            "text/plain": [
              "1.0"
            ]
          },
          "metadata": {
            "tags": []
          },
          "execution_count": 23
        }
      ]
    },
    {
      "cell_type": "code",
      "metadata": {
        "trusted": true,
        "id": "ZbW2WPmbeQOg",
        "colab_type": "code",
        "colab": {}
      },
      "source": [
        "test_datagen = ImageDataGenerator(featurewise_center=True, samplewise_center=True)\n",
        "test_datagen.fit(X_train)\n",
        "\n",
        "\n",
        "\n",
        "\n",
        "\n",
        "test_iterator = test_datagen.flow(test, batch_size=49, shuffle=False)\n",
        "prediction = model1.predict_generator(test_iterator,steps =41)\n"
      ],
      "execution_count": 0,
      "outputs": []
    },
    {
      "cell_type": "code",
      "metadata": {
        "id": "IH97V7U0Uozb",
        "colab_type": "code",
        "outputId": "4c1e7183-6ba8-4633-f526-16002a53a227",
        "colab": {
          "base_uri": "https://localhost:8080/",
          "height": 34
        }
      },
      "source": [
        "prediction.shape"
      ],
      "execution_count": 0,
      "outputs": [
        {
          "output_type": "execute_result",
          "data": {
            "text/plain": [
              "(2009, 103)"
            ]
          },
          "metadata": {
            "tags": []
          },
          "execution_count": 47
        }
      ]
    },
    {
      "cell_type": "code",
      "metadata": {
        "id": "9lJv42DScPo9",
        "colab_type": "code",
        "colab": {}
      },
      "source": [
        "predict = [np.argmax(prediction[i]) for i in range(2009)]"
      ],
      "execution_count": 0,
      "outputs": []
    },
    {
      "cell_type": "code",
      "metadata": {
        "id": "bnQzxeuUmlAS",
        "colab_type": "code",
        "colab": {}
      },
      "source": [
        ""
      ],
      "execution_count": 0,
      "outputs": []
    },
    {
      "cell_type": "code",
      "metadata": {
        "id": "-IcC_INxlT2J",
        "colab_type": "code",
        "colab": {}
      },
      "source": [
        ""
      ],
      "execution_count": 0,
      "outputs": []
    },
    {
      "cell_type": "code",
      "metadata": {
        "trusted": true,
        "id": "KynsnIlfeQOk",
        "colab_type": "code",
        "outputId": "38206fa1-2f32-400d-96f5-5cf7def3f398",
        "colab": {
          "base_uri": "https://localhost:8080/",
          "height": 1000
        }
      },
      "source": [
        "\n",
        "df_prediction= pd.DataFrame({'category':predict})\n",
        "df_prediction"
      ],
      "execution_count": 171,
      "outputs": [
        {
          "output_type": "execute_result",
          "data": {
            "text/html": [
              "<div>\n",
              "<style scoped>\n",
              "    .dataframe tbody tr th:only-of-type {\n",
              "        vertical-align: middle;\n",
              "    }\n",
              "\n",
              "    .dataframe tbody tr th {\n",
              "        vertical-align: top;\n",
              "    }\n",
              "\n",
              "    .dataframe thead th {\n",
              "        text-align: right;\n",
              "    }\n",
              "</style>\n",
              "<table border=\"1\" class=\"dataframe\">\n",
              "  <thead>\n",
              "    <tr style=\"text-align: right;\">\n",
              "      <th></th>\n",
              "      <th>category</th>\n",
              "    </tr>\n",
              "  </thead>\n",
              "  <tbody>\n",
              "    <tr>\n",
              "      <th>0</th>\n",
              "      <td>19</td>\n",
              "    </tr>\n",
              "    <tr>\n",
              "      <th>1</th>\n",
              "      <td>4</td>\n",
              "    </tr>\n",
              "    <tr>\n",
              "      <th>2</th>\n",
              "      <td>40</td>\n",
              "    </tr>\n",
              "    <tr>\n",
              "      <th>3</th>\n",
              "      <td>95</td>\n",
              "    </tr>\n",
              "    <tr>\n",
              "      <th>4</th>\n",
              "      <td>51</td>\n",
              "    </tr>\n",
              "    <tr>\n",
              "      <th>5</th>\n",
              "      <td>40</td>\n",
              "    </tr>\n",
              "    <tr>\n",
              "      <th>6</th>\n",
              "      <td>67</td>\n",
              "    </tr>\n",
              "    <tr>\n",
              "      <th>7</th>\n",
              "      <td>97</td>\n",
              "    </tr>\n",
              "    <tr>\n",
              "      <th>8</th>\n",
              "      <td>72</td>\n",
              "    </tr>\n",
              "    <tr>\n",
              "      <th>9</th>\n",
              "      <td>89</td>\n",
              "    </tr>\n",
              "    <tr>\n",
              "      <th>10</th>\n",
              "      <td>63</td>\n",
              "    </tr>\n",
              "    <tr>\n",
              "      <th>11</th>\n",
              "      <td>86</td>\n",
              "    </tr>\n",
              "    <tr>\n",
              "      <th>12</th>\n",
              "      <td>89</td>\n",
              "    </tr>\n",
              "    <tr>\n",
              "      <th>13</th>\n",
              "      <td>63</td>\n",
              "    </tr>\n",
              "    <tr>\n",
              "      <th>14</th>\n",
              "      <td>15</td>\n",
              "    </tr>\n",
              "    <tr>\n",
              "      <th>15</th>\n",
              "      <td>19</td>\n",
              "    </tr>\n",
              "    <tr>\n",
              "      <th>16</th>\n",
              "      <td>10</td>\n",
              "    </tr>\n",
              "    <tr>\n",
              "      <th>17</th>\n",
              "      <td>10</td>\n",
              "    </tr>\n",
              "    <tr>\n",
              "      <th>18</th>\n",
              "      <td>81</td>\n",
              "    </tr>\n",
              "    <tr>\n",
              "      <th>19</th>\n",
              "      <td>97</td>\n",
              "    </tr>\n",
              "    <tr>\n",
              "      <th>20</th>\n",
              "      <td>85</td>\n",
              "    </tr>\n",
              "    <tr>\n",
              "      <th>21</th>\n",
              "      <td>76</td>\n",
              "    </tr>\n",
              "    <tr>\n",
              "      <th>22</th>\n",
              "      <td>74</td>\n",
              "    </tr>\n",
              "    <tr>\n",
              "      <th>23</th>\n",
              "      <td>4</td>\n",
              "    </tr>\n",
              "    <tr>\n",
              "      <th>24</th>\n",
              "      <td>76</td>\n",
              "    </tr>\n",
              "    <tr>\n",
              "      <th>25</th>\n",
              "      <td>14</td>\n",
              "    </tr>\n",
              "    <tr>\n",
              "      <th>26</th>\n",
              "      <td>85</td>\n",
              "    </tr>\n",
              "    <tr>\n",
              "      <th>27</th>\n",
              "      <td>43</td>\n",
              "    </tr>\n",
              "    <tr>\n",
              "      <th>28</th>\n",
              "      <td>19</td>\n",
              "    </tr>\n",
              "    <tr>\n",
              "      <th>29</th>\n",
              "      <td>57</td>\n",
              "    </tr>\n",
              "    <tr>\n",
              "      <th>...</th>\n",
              "      <td>...</td>\n",
              "    </tr>\n",
              "    <tr>\n",
              "      <th>1979</th>\n",
              "      <td>74</td>\n",
              "    </tr>\n",
              "    <tr>\n",
              "      <th>1980</th>\n",
              "      <td>43</td>\n",
              "    </tr>\n",
              "    <tr>\n",
              "      <th>1981</th>\n",
              "      <td>92</td>\n",
              "    </tr>\n",
              "    <tr>\n",
              "      <th>1982</th>\n",
              "      <td>62</td>\n",
              "    </tr>\n",
              "    <tr>\n",
              "      <th>1983</th>\n",
              "      <td>82</td>\n",
              "    </tr>\n",
              "    <tr>\n",
              "      <th>1984</th>\n",
              "      <td>39</td>\n",
              "    </tr>\n",
              "    <tr>\n",
              "      <th>1985</th>\n",
              "      <td>68</td>\n",
              "    </tr>\n",
              "    <tr>\n",
              "      <th>1986</th>\n",
              "      <td>31</td>\n",
              "    </tr>\n",
              "    <tr>\n",
              "      <th>1987</th>\n",
              "      <td>74</td>\n",
              "    </tr>\n",
              "    <tr>\n",
              "      <th>1988</th>\n",
              "      <td>89</td>\n",
              "    </tr>\n",
              "    <tr>\n",
              "      <th>1989</th>\n",
              "      <td>25</td>\n",
              "    </tr>\n",
              "    <tr>\n",
              "      <th>1990</th>\n",
              "      <td>42</td>\n",
              "    </tr>\n",
              "    <tr>\n",
              "      <th>1991</th>\n",
              "      <td>63</td>\n",
              "    </tr>\n",
              "    <tr>\n",
              "      <th>1992</th>\n",
              "      <td>30</td>\n",
              "    </tr>\n",
              "    <tr>\n",
              "      <th>1993</th>\n",
              "      <td>89</td>\n",
              "    </tr>\n",
              "    <tr>\n",
              "      <th>1994</th>\n",
              "      <td>89</td>\n",
              "    </tr>\n",
              "    <tr>\n",
              "      <th>1995</th>\n",
              "      <td>30</td>\n",
              "    </tr>\n",
              "    <tr>\n",
              "      <th>1996</th>\n",
              "      <td>58</td>\n",
              "    </tr>\n",
              "    <tr>\n",
              "      <th>1997</th>\n",
              "      <td>72</td>\n",
              "    </tr>\n",
              "    <tr>\n",
              "      <th>1998</th>\n",
              "      <td>81</td>\n",
              "    </tr>\n",
              "    <tr>\n",
              "      <th>1999</th>\n",
              "      <td>77</td>\n",
              "    </tr>\n",
              "    <tr>\n",
              "      <th>2000</th>\n",
              "      <td>4</td>\n",
              "    </tr>\n",
              "    <tr>\n",
              "      <th>2001</th>\n",
              "      <td>77</td>\n",
              "    </tr>\n",
              "    <tr>\n",
              "      <th>2002</th>\n",
              "      <td>81</td>\n",
              "    </tr>\n",
              "    <tr>\n",
              "      <th>2003</th>\n",
              "      <td>77</td>\n",
              "    </tr>\n",
              "    <tr>\n",
              "      <th>2004</th>\n",
              "      <td>58</td>\n",
              "    </tr>\n",
              "    <tr>\n",
              "      <th>2005</th>\n",
              "      <td>74</td>\n",
              "    </tr>\n",
              "    <tr>\n",
              "      <th>2006</th>\n",
              "      <td>30</td>\n",
              "    </tr>\n",
              "    <tr>\n",
              "      <th>2007</th>\n",
              "      <td>72</td>\n",
              "    </tr>\n",
              "    <tr>\n",
              "      <th>2008</th>\n",
              "      <td>51</td>\n",
              "    </tr>\n",
              "  </tbody>\n",
              "</table>\n",
              "<p>2009 rows × 1 columns</p>\n",
              "</div>"
            ],
            "text/plain": [
              "      category\n",
              "0           19\n",
              "1            4\n",
              "2           40\n",
              "3           95\n",
              "4           51\n",
              "5           40\n",
              "6           67\n",
              "7           97\n",
              "8           72\n",
              "9           89\n",
              "10          63\n",
              "11          86\n",
              "12          89\n",
              "13          63\n",
              "14          15\n",
              "15          19\n",
              "16          10\n",
              "17          10\n",
              "18          81\n",
              "19          97\n",
              "20          85\n",
              "21          76\n",
              "22          74\n",
              "23           4\n",
              "24          76\n",
              "25          14\n",
              "26          85\n",
              "27          43\n",
              "28          19\n",
              "29          57\n",
              "...        ...\n",
              "1979        74\n",
              "1980        43\n",
              "1981        92\n",
              "1982        62\n",
              "1983        82\n",
              "1984        39\n",
              "1985        68\n",
              "1986        31\n",
              "1987        74\n",
              "1988        89\n",
              "1989        25\n",
              "1990        42\n",
              "1991        63\n",
              "1992        30\n",
              "1993        89\n",
              "1994        89\n",
              "1995        30\n",
              "1996        58\n",
              "1997        72\n",
              "1998        81\n",
              "1999        77\n",
              "2000         4\n",
              "2001        77\n",
              "2002        81\n",
              "2003        77\n",
              "2004        58\n",
              "2005        74\n",
              "2006        30\n",
              "2007        72\n",
              "2008        51\n",
              "\n",
              "[2009 rows x 1 columns]"
            ]
          },
          "metadata": {
            "tags": []
          },
          "execution_count": 171
        }
      ]
    },
    {
      "cell_type": "code",
      "metadata": {
        "id": "ZUbsHl8PcURh",
        "colab_type": "code",
        "outputId": "7816d0c2-b099-465b-81c0-fce3fc9059a3",
        "colab": {
          "base_uri": "https://localhost:8080/",
          "height": 1000
        }
      },
      "source": [
        "df_prediction.category.value_counts()"
      ],
      "execution_count": 172,
      "outputs": [
        {
          "output_type": "execute_result",
          "data": {
            "text/plain": [
              "73     62\n",
              "77     58\n",
              "94     53\n",
              "51     49\n",
              "46     49\n",
              "43     49\n",
              "74     48\n",
              "50     44\n",
              "81     43\n",
              "30     43\n",
              "75     43\n",
              "89     40\n",
              "97     35\n",
              "88     35\n",
              "4      35\n",
              "31     31\n",
              "76     31\n",
              "60     30\n",
              "72     30\n",
              "82     30\n",
              "20     29\n",
              "42     29\n",
              "58     27\n",
              "41     26\n",
              "19     25\n",
              "39     25\n",
              "14     24\n",
              "56     23\n",
              "98     23\n",
              "78     23\n",
              "       ..\n",
              "99     12\n",
              "6      12\n",
              "92     12\n",
              "100    12\n",
              "18     11\n",
              "16     11\n",
              "38     11\n",
              "61     11\n",
              "35     10\n",
              "22     10\n",
              "68     10\n",
              "11      9\n",
              "7       9\n",
              "55      9\n",
              "86      9\n",
              "1       8\n",
              "34      8\n",
              "40      8\n",
              "53      8\n",
              "67      8\n",
              "21      7\n",
              "45      7\n",
              "33      6\n",
              "87      6\n",
              "90      6\n",
              "102     6\n",
              "28      5\n",
              "9       3\n",
              "93      3\n",
              "26      1\n",
              "Name: category, Length: 102, dtype: int64"
            ]
          },
          "metadata": {
            "tags": []
          },
          "execution_count": 172
        }
      ]
    },
    {
      "cell_type": "code",
      "metadata": {
        "trusted": true,
        "id": "pQSmN3o-eQOo",
        "colab_type": "code",
        "colab": {}
      },
      "source": [
        "sample = pd.read_csv('../data/sample_submission.csv')\n",
        "\n",
        "#sample['label'] = prediction\n",
        "#sample.to_csv('sample_cnn.csv', header=True, index=False)"
      ],
      "execution_count": 0,
      "outputs": []
    },
    {
      "cell_type": "code",
      "metadata": {
        "trusted": true,
        "id": "jl4cd0XQeQOu",
        "colab_type": "code",
        "outputId": "782ad312-f3fc-4bef-c524-e4421a693250",
        "colab": {
          "base_uri": "https://localhost:8080/",
          "height": 204
        }
      },
      "source": [
        "df_final= sample.iloc[:,[0]]\n",
        "df_final=pd.concat([df_final,df_prediction],axis=1)\n",
        "df_final.head()"
      ],
      "execution_count": 174,
      "outputs": [
        {
          "output_type": "execute_result",
          "data": {
            "text/html": [
              "<div>\n",
              "<style scoped>\n",
              "    .dataframe tbody tr th:only-of-type {\n",
              "        vertical-align: middle;\n",
              "    }\n",
              "\n",
              "    .dataframe tbody tr th {\n",
              "        vertical-align: top;\n",
              "    }\n",
              "\n",
              "    .dataframe thead th {\n",
              "        text-align: right;\n",
              "    }\n",
              "</style>\n",
              "<table border=\"1\" class=\"dataframe\">\n",
              "  <thead>\n",
              "    <tr style=\"text-align: right;\">\n",
              "      <th></th>\n",
              "      <th>image_id</th>\n",
              "      <th>category</th>\n",
              "    </tr>\n",
              "  </thead>\n",
              "  <tbody>\n",
              "    <tr>\n",
              "      <th>0</th>\n",
              "      <td>18540</td>\n",
              "      <td>19</td>\n",
              "    </tr>\n",
              "    <tr>\n",
              "      <th>1</th>\n",
              "      <td>18541</td>\n",
              "      <td>4</td>\n",
              "    </tr>\n",
              "    <tr>\n",
              "      <th>2</th>\n",
              "      <td>18542</td>\n",
              "      <td>40</td>\n",
              "    </tr>\n",
              "    <tr>\n",
              "      <th>3</th>\n",
              "      <td>18543</td>\n",
              "      <td>95</td>\n",
              "    </tr>\n",
              "    <tr>\n",
              "      <th>4</th>\n",
              "      <td>18544</td>\n",
              "      <td>51</td>\n",
              "    </tr>\n",
              "  </tbody>\n",
              "</table>\n",
              "</div>"
            ],
            "text/plain": [
              "   image_id  category\n",
              "0     18540        19\n",
              "1     18541         4\n",
              "2     18542        40\n",
              "3     18543        95\n",
              "4     18544        51"
            ]
          },
          "metadata": {
            "tags": []
          },
          "execution_count": 174
        }
      ]
    },
    {
      "cell_type": "code",
      "metadata": {
        "trusted": true,
        "id": "lJxkyr1teQO1",
        "colab_type": "code",
        "colab": {}
      },
      "source": [
        "pd.DataFrame(df_final).to_csv('myprediction_NN.csv',index = False)"
      ],
      "execution_count": 0,
      "outputs": []
    },
    {
      "cell_type": "code",
      "metadata": {
        "trusted": true,
        "id": "tL5_daaVeQO8",
        "colab_type": "code",
        "colab": {}
      },
      "source": [
        "from google.colab import files\n",
        "\n",
        "files.download('myprediction_NN.csv')"
      ],
      "execution_count": 0,
      "outputs": []
    },
    {
      "cell_type": "code",
      "metadata": {
        "trusted": true,
        "id": "uFLM3KRheQPG",
        "colab_type": "code",
        "colab": {}
      },
      "source": [
        ""
      ],
      "execution_count": 0,
      "outputs": []
    }
  ]
}